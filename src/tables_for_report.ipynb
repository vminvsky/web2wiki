{
 "cells": [
  {
   "cell_type": "code",
   "execution_count": 6,
   "metadata": {},
   "outputs": [
    {
     "name": "stderr",
     "output_type": "stream",
     "text": [
      "23/01/12 13:25:29 WARN Utils: Your hostname, iccluster039 resolves to a loopback address: 127.0.1.1; using 10.90.38.15 instead (on interface ens786f0)\n",
      "23/01/12 13:25:29 WARN Utils: Set SPARK_LOCAL_IP if you need to bind to another address\n",
      "WARNING: An illegal reflective access operation has occurred\n",
      "WARNING: Illegal reflective access by org.apache.spark.unsafe.Platform (file:/home/veselovs/spark-3.2.1-bin-hadoop2.7/jars/spark-unsafe_2.12-3.2.1.jar) to constructor java.nio.DirectByteBuffer(long,int)\n",
      "WARNING: Please consider reporting this to the maintainers of org.apache.spark.unsafe.Platform\n",
      "WARNING: Use --illegal-access=warn to enable warnings of further illegal reflective access operations\n",
      "WARNING: All illegal access operations will be denied in a future release\n",
      "Using Spark's default log4j profile: org/apache/spark/log4j-defaults.properties\n",
      "Setting default log level to \"WARN\".\n",
      "To adjust logging level use sc.setLogLevel(newLevel). For SparkR, use setLogLevel(newLevel).\n",
      "23/01/12 13:25:31 WARN NativeCodeLoader: Unable to load native-hadoop library for your platform... using builtin-java classes where applicable\n",
      "23/01/12 13:25:32 WARN SparkConf: Note that spark.local.dir will be overridden by the value set by the cluster manager (via SPARK_LOCAL_DIRS in mesos/standalone/kubernetes and LOCAL_DIRS in YARN).\n",
      "23/01/12 13:25:35 WARN Utils: Service 'SparkUI' could not bind on port 4040. Attempting port 4041.\n",
      "23/01/12 13:25:35 WARN Utils: Service 'SparkUI' could not bind on port 4041. Attempting port 4042.\n"
     ]
    }
   ],
   "source": [
    "import pandas as pd \n",
    "import os\n",
    "\n",
    "import pyspark.sql.functions as F\n",
    "from pyspark.sql.types import *\n",
    "import pyspark\n",
    "from pyspark.sql import SparkSession\n",
    "from pyspark import SparkContext\n",
    "from pyspark.sql import Row\n",
    "import pyarrow.parquet as pq\n",
    "import pyarrow as pa\n",
    "\n",
    "from bs4 import BeautifulSoup\n",
    "\n",
    "\n",
    "\n",
    "\n",
    "\n",
    "os.environ['SPARK_HOME'] = \"/home/veselovs/spark-3.2.1-bin-hadoop2.7\"\n",
    "os.environ['JAVA_HOME'] = \"/home/veselovs/jdk-13.0.2\"\n",
    "spark = SparkSession.builder.getOrCreate()\n",
    "\n"
   ]
  },
  {
   "cell_type": "code",
   "execution_count": 17,
   "metadata": {},
   "outputs": [],
   "source": [
    "import sys\n",
    "sys.path.append(\"code/helpers/\")"
   ]
  },
  {
   "cell_type": "code",
   "execution_count": 23,
   "metadata": {},
   "outputs": [],
   "source": [
    "from settings import WIKI_PAGES_DIR, DATA_DIR, EMBEDDING_DIR\n",
    "\n",
    "import glob\n",
    "files = glob.glob(WIKI_PAGES_DIR + \"/*\")\n",
    "\n",
    "files = [k for k in files if k != \"/dlabdata1/piccar£di/WikipediaPagesExtractor/WikiPages/CC-MAIN-20210307044328-20210307074328-00556.warc.gz.parquet\"]\n"
   ]
  },
  {
   "cell_type": "code",
   "execution_count": null,
   "metadata": {},
   "outputs": [],
   "source": []
  },
  {
   "cell_type": "code",
   "execution_count": 24,
   "metadata": {},
   "outputs": [],
   "source": [
    "import sys\n",
    "\n",
    "import importlib\n",
    "sys.path.append(\"/scratch/venia/wiki_embedding_project\")\n",
    "from config.get import cfg\n",
    "langlist = cfg[\"langlist\"]\n",
    "\n",
    "qid_pid = cfg[\"processed_data\"][\"matchings\"][\"Qid_pid\"][\"from_page_props\"]\n"
   ]
  },
  {
   "cell_type": "code",
   "execution_count": null,
   "metadata": {},
   "outputs": [],
   "source": []
  },
  {
   "cell_type": "code",
   "execution_count": null,
   "metadata": {},
   "outputs": [],
   "source": []
  },
  {
   "cell_type": "code",
   "execution_count": 25,
   "metadata": {},
   "outputs": [],
   "source": [
    "import glob \n",
    "files = glob.glob(DATA_DIR + \"/*\")"
   ]
  },
  {
   "cell_type": "code",
   "execution_count": 26,
   "metadata": {},
   "outputs": [],
   "source": [
    "files = files[0:12]"
   ]
  },
  {
   "cell_type": "code",
   "execution_count": 27,
   "metadata": {},
   "outputs": [
    {
     "name": "stderr",
     "output_type": "stream",
     "text": [
      "                                                                                \r"
     ]
    }
   ],
   "source": [
    "raw = spark.read.load(files)"
   ]
  },
  {
   "cell_type": "code",
   "execution_count": 28,
   "metadata": {
    "collapsed": true
   },
   "outputs": [
    {
     "ename": "AnalysisException",
     "evalue": "cannot resolve 'content' given input columns: [domain, label, label_leaf, lang, uid];\n'Project ['content]\n+- Relation [domain#0,uid#1L,label#2,lang#3,label_leaf#4] parquet\n",
     "output_type": "error",
     "traceback": [
      "\u001b[0;31m---------------------------------------------------------------------------\u001b[0m",
      "\u001b[0;31mAnalysisException\u001b[0m                         Traceback (most recent call last)",
      "Input \u001b[0;32mIn [28]\u001b[0m, in \u001b[0;36m<cell line: 1>\u001b[0;34m()\u001b[0m\n\u001b[0;32m----> 1\u001b[0m content \u001b[38;5;241m=\u001b[39m \u001b[43mraw\u001b[49m\u001b[38;5;241;43m.\u001b[39;49m\u001b[43mselect\u001b[49m\u001b[43m(\u001b[49m\u001b[38;5;124;43m\"\u001b[39;49m\u001b[38;5;124;43mcontent\u001b[39;49m\u001b[38;5;124;43m\"\u001b[39;49m\u001b[43m)\u001b[49m\u001b[38;5;241m.\u001b[39mlimit(\u001b[38;5;241m20\u001b[39m)\u001b[38;5;241m.\u001b[39mtoPandas()\n",
      "File \u001b[0;32m~/miniconda3/lib/python3.9/site-packages/pyspark/sql/dataframe.py:1685\u001b[0m, in \u001b[0;36mDataFrame.select\u001b[0;34m(self, *cols)\u001b[0m\n\u001b[1;32m   1664\u001b[0m \u001b[38;5;28;01mdef\u001b[39;00m \u001b[38;5;21mselect\u001b[39m(\u001b[38;5;28mself\u001b[39m, \u001b[38;5;241m*\u001b[39mcols):\n\u001b[1;32m   1665\u001b[0m     \u001b[38;5;124;03m\"\"\"Projects a set of expressions and returns a new :class:`DataFrame`.\u001b[39;00m\n\u001b[1;32m   1666\u001b[0m \n\u001b[1;32m   1667\u001b[0m \u001b[38;5;124;03m    .. versionadded:: 1.3.0\u001b[39;00m\n\u001b[0;32m   (...)\u001b[0m\n\u001b[1;32m   1683\u001b[0m \u001b[38;5;124;03m    [Row(name='Alice', age=12), Row(name='Bob', age=15)]\u001b[39;00m\n\u001b[1;32m   1684\u001b[0m \u001b[38;5;124;03m    \"\"\"\u001b[39;00m\n\u001b[0;32m-> 1685\u001b[0m     jdf \u001b[38;5;241m=\u001b[39m \u001b[38;5;28;43mself\u001b[39;49m\u001b[38;5;241;43m.\u001b[39;49m\u001b[43m_jdf\u001b[49m\u001b[38;5;241;43m.\u001b[39;49m\u001b[43mselect\u001b[49m\u001b[43m(\u001b[49m\u001b[38;5;28;43mself\u001b[39;49m\u001b[38;5;241;43m.\u001b[39;49m\u001b[43m_jcols\u001b[49m\u001b[43m(\u001b[49m\u001b[38;5;241;43m*\u001b[39;49m\u001b[43mcols\u001b[49m\u001b[43m)\u001b[49m\u001b[43m)\u001b[49m\n\u001b[1;32m   1686\u001b[0m     \u001b[38;5;28;01mreturn\u001b[39;00m DataFrame(jdf, \u001b[38;5;28mself\u001b[39m\u001b[38;5;241m.\u001b[39msql_ctx)\n",
      "File \u001b[0;32m~/miniconda3/lib/python3.9/site-packages/py4j/java_gateway.py:1321\u001b[0m, in \u001b[0;36mJavaMember.__call__\u001b[0;34m(self, *args)\u001b[0m\n\u001b[1;32m   1315\u001b[0m command \u001b[38;5;241m=\u001b[39m proto\u001b[38;5;241m.\u001b[39mCALL_COMMAND_NAME \u001b[38;5;241m+\u001b[39m\\\n\u001b[1;32m   1316\u001b[0m     \u001b[38;5;28mself\u001b[39m\u001b[38;5;241m.\u001b[39mcommand_header \u001b[38;5;241m+\u001b[39m\\\n\u001b[1;32m   1317\u001b[0m     args_command \u001b[38;5;241m+\u001b[39m\\\n\u001b[1;32m   1318\u001b[0m     proto\u001b[38;5;241m.\u001b[39mEND_COMMAND_PART\n\u001b[1;32m   1320\u001b[0m answer \u001b[38;5;241m=\u001b[39m \u001b[38;5;28mself\u001b[39m\u001b[38;5;241m.\u001b[39mgateway_client\u001b[38;5;241m.\u001b[39msend_command(command)\n\u001b[0;32m-> 1321\u001b[0m return_value \u001b[38;5;241m=\u001b[39m \u001b[43mget_return_value\u001b[49m\u001b[43m(\u001b[49m\n\u001b[1;32m   1322\u001b[0m \u001b[43m    \u001b[49m\u001b[43manswer\u001b[49m\u001b[43m,\u001b[49m\u001b[43m \u001b[49m\u001b[38;5;28;43mself\u001b[39;49m\u001b[38;5;241;43m.\u001b[39;49m\u001b[43mgateway_client\u001b[49m\u001b[43m,\u001b[49m\u001b[43m \u001b[49m\u001b[38;5;28;43mself\u001b[39;49m\u001b[38;5;241;43m.\u001b[39;49m\u001b[43mtarget_id\u001b[49m\u001b[43m,\u001b[49m\u001b[43m \u001b[49m\u001b[38;5;28;43mself\u001b[39;49m\u001b[38;5;241;43m.\u001b[39;49m\u001b[43mname\u001b[49m\u001b[43m)\u001b[49m\n\u001b[1;32m   1324\u001b[0m \u001b[38;5;28;01mfor\u001b[39;00m temp_arg \u001b[38;5;129;01min\u001b[39;00m temp_args:\n\u001b[1;32m   1325\u001b[0m     temp_arg\u001b[38;5;241m.\u001b[39m_detach()\n",
      "File \u001b[0;32m~/miniconda3/lib/python3.9/site-packages/pyspark/sql/utils.py:117\u001b[0m, in \u001b[0;36mcapture_sql_exception.<locals>.deco\u001b[0;34m(*a, **kw)\u001b[0m\n\u001b[1;32m    113\u001b[0m converted \u001b[38;5;241m=\u001b[39m convert_exception(e\u001b[38;5;241m.\u001b[39mjava_exception)\n\u001b[1;32m    114\u001b[0m \u001b[38;5;28;01mif\u001b[39;00m \u001b[38;5;129;01mnot\u001b[39;00m \u001b[38;5;28misinstance\u001b[39m(converted, UnknownException):\n\u001b[1;32m    115\u001b[0m     \u001b[38;5;66;03m# Hide where the exception came from that shows a non-Pythonic\u001b[39;00m\n\u001b[1;32m    116\u001b[0m     \u001b[38;5;66;03m# JVM exception message.\u001b[39;00m\n\u001b[0;32m--> 117\u001b[0m     \u001b[38;5;28;01mraise\u001b[39;00m converted \u001b[38;5;28;01mfrom\u001b[39;00m \u001b[38;5;28mNone\u001b[39m\n\u001b[1;32m    118\u001b[0m \u001b[38;5;28;01melse\u001b[39;00m:\n\u001b[1;32m    119\u001b[0m     \u001b[38;5;28;01mraise\u001b[39;00m\n",
      "\u001b[0;31mAnalysisException\u001b[0m: cannot resolve 'content' given input columns: [domain, label, label_leaf, lang, uid];\n'Project ['content]\n+- Relation [domain#0,uid#1L,label#2,lang#3,label_leaf#4] parquet\n"
     ]
    }
   ],
   "source": [
    "content = raw.select(\"content\").limit(20).toPandas()\n"
   ]
  },
  {
   "cell_type": "code",
   "execution_count": null,
   "metadata": {},
   "outputs": [],
   "source": []
  },
  {
   "cell_type": "code",
   "execution_count": null,
   "metadata": {},
   "outputs": [],
   "source": [
    "a = content[\"content\"].values[2]"
   ]
  },
  {
   "cell_type": "code",
   "execution_count": null,
   "metadata": {},
   "outputs": [],
   "source": [
    "# play with it to find weighting scheme\n",
    "\n",
    "soup = BeautifulSoup(a)"
   ]
  },
  {
   "cell_type": "code",
   "execution_count": null,
   "metadata": {},
   "outputs": [],
   "source": [
    "for link in soup.find_all('a'):\n",
    "    l = link.get(\"href\")\n",
    "    if  l != None: \n",
    "        if \"wiki\" in l:\n",
    "            d = l\n",
    "            print(normalise_title(l))\n",
    "            print(l)\n",
    "        "
   ]
  },
  {
   "cell_type": "code",
   "execution_count": null,
   "metadata": {},
   "outputs": [],
   "source": [
    "i = 0\n",
    "while link.parent:\n",
    "    print(i)\n",
    "    link = link.parent\n",
    "    i += 1"
   ]
  },
  {
   "cell_type": "code",
   "execution_count": null,
   "metadata": {},
   "outputs": [],
   "source": []
  },
  {
   "cell_type": "code",
   "execution_count": null,
   "metadata": {},
   "outputs": [],
   "source": [
    "\n"
   ]
  },
  {
   "cell_type": "code",
   "execution_count": null,
   "metadata": {},
   "outputs": [],
   "source": []
  },
  {
   "cell_type": "code",
   "execution_count": 22,
   "metadata": {},
   "outputs": [],
   "source": [
    "import urllib\n",
    "\n",
    "def normalise_title(title):\n",
    "    \"\"\" Replace _ with space, remove anchor, capitalize \"\"\"\n",
    "    title = title.split(\"/\")[-1]\n",
    "    title = urllib.parse.unquote(title)\n",
    "    title = title.strip()\n",
    "    if len(title) > 0:\n",
    "        title = title[0].upper() + title[1:]\n",
    "    n_title = title.replace(\"_\", \" \")\n",
    "    # if '#' in n_title:\n",
    "    #     n_title = n_title.split('#')[0]\n",
    "    return n_title\n"
   ]
  },
  {
   "cell_type": "code",
   "execution_count": 51,
   "metadata": {},
   "outputs": [
    {
     "name": "stdout",
     "output_type": "stream",
     "text": [
      "Heteronormativität\n",
      "https://de.wikipedia.org/wiki/Heteronormativit%C3%A4t\n"
     ]
    }
   ],
   "source": [
    "for link in soup.find_all('a'):\n",
    "    l = link.get(\"href\")\n",
    "    if  l != None: \n",
    "        if \"wiki\" in l:\n",
    "            print(normalise_title(l))\n",
    "            print(l)"
   ]
  },
  {
   "cell_type": "code",
   "execution_count": 35,
   "metadata": {},
   "outputs": [
    {
     "data": {
      "text/plain": [
       "True"
      ]
     },
     "execution_count": 35,
     "metadata": {},
     "output_type": "execute_result"
    }
   ],
   "source": [
    "\"http\" in soup.find_all('a')[0].get(\"href\")"
   ]
  },
  {
   "cell_type": "code",
   "execution_count": 31,
   "metadata": {},
   "outputs": [],
   "source": [
    "df2 = pd.read_parquet(\"data/all_wikilinks_clean.parquet\")"
   ]
  },
  {
   "cell_type": "code",
   "execution_count": 42,
   "metadata": {},
   "outputs": [
    {
     "data": {
      "text/plain": [
       "1475057"
      ]
     },
     "execution_count": 42,
     "metadata": {},
     "output_type": "execute_result"
    }
   ],
   "source": [
    "df2[\"domain\"].nunique()"
   ]
  },
  {
   "cell_type": "code",
   "execution_count": 43,
   "metadata": {},
   "outputs": [
    {
     "data": {
      "text/plain": [
       "24172414"
      ]
     },
     "execution_count": 43,
     "metadata": {},
     "output_type": "execute_result"
    }
   ],
   "source": [
    "df2[\"url\"].nunique()"
   ]
  },
  {
   "cell_type": "code",
   "execution_count": 46,
   "metadata": {},
   "outputs": [
    {
     "data": {
      "text/plain": [
       "15163852"
      ]
     },
     "execution_count": 46,
     "metadata": {},
     "output_type": "execute_result"
    }
   ],
   "source": [
    "df2[\"wiki_no_subset\"] + df2[.nunique()"
   ]
  },
  {
   "cell_type": "code",
   "execution_count": 47,
   "metadata": {},
   "outputs": [
    {
     "data": {
      "text/html": [
       "<div>\n",
       "<style scoped>\n",
       "    .dataframe tbody tr th:only-of-type {\n",
       "        vertical-align: middle;\n",
       "    }\n",
       "\n",
       "    .dataframe tbody tr th {\n",
       "        vertical-align: top;\n",
       "    }\n",
       "\n",
       "    .dataframe thead th {\n",
       "        text-align: right;\n",
       "    }\n",
       "</style>\n",
       "<table border=\"1\" class=\"dataframe\">\n",
       "  <thead>\n",
       "    <tr style=\"text-align: right;\">\n",
       "      <th></th>\n",
       "      <th>domain</th>\n",
       "      <th>url</th>\n",
       "      <th>wiki_link</th>\n",
       "      <th>subset</th>\n",
       "      <th>wiki_no_subset</th>\n",
       "      <th>wikidb</th>\n",
       "      <th>title</th>\n",
       "    </tr>\n",
       "  </thead>\n",
       "  <tbody>\n",
       "    <tr>\n",
       "      <th>0</th>\n",
       "      <td>agorapoliton.gr</td>\n",
       "      <td>http://agorapoliton.gr/index.php?Itemid=62&amp;cat...</td>\n",
       "      <td>https://en.wikipedia.org/wiki/Economy_of_North...</td>\n",
       "      <td></td>\n",
       "      <td>https://en.wikipedia.org/wiki/Economy_of_North...</td>\n",
       "      <td>en</td>\n",
       "      <td>Economy of North Korea</td>\n",
       "    </tr>\n",
       "    <tr>\n",
       "      <th>1</th>\n",
       "      <td>amipsyche.com</td>\n",
       "      <td>http://amipsyche.com/6-romantic-ideas-for-newl...</td>\n",
       "      <td>https://en.wikipedia.org/wiki/Newlywed</td>\n",
       "      <td></td>\n",
       "      <td>https://en.wikipedia.org/wiki/Newlywed</td>\n",
       "      <td>en</td>\n",
       "      <td>Newlywed</td>\n",
       "    </tr>\n",
       "    <tr>\n",
       "      <th>2</th>\n",
       "      <td>analysebrassens.com</td>\n",
       "      <td>http://analysebrassens.com?analysebrassens=d74...</td>\n",
       "      <td>http://fr.wikipedia.org/wiki/Homosexualit%C3%A...</td>\n",
       "      <td>#Pers.C3.A9cutions_des_r.C3.A9gimes_totalitaires</td>\n",
       "      <td>http://fr.wikipedia.org/wiki/Homosexualit%C3%A9</td>\n",
       "      <td>fr</td>\n",
       "      <td>Homosexualité</td>\n",
       "    </tr>\n",
       "    <tr>\n",
       "      <th>3</th>\n",
       "      <td>animejima.xyz</td>\n",
       "      <td>http://animejima.xyz/2008%E5%B9%B4%EF%BC%88%E5...</td>\n",
       "      <td>https://ja.wikipedia.org/wiki/%E3%81%A8%E3%81%...</td>\n",
       "      <td></td>\n",
       "      <td>https://ja.wikipedia.org/wiki/%E3%81%A8%E3%81%...</td>\n",
       "      <td>ja</td>\n",
       "      <td>とある魔術の禁書目録 (アニメ)</td>\n",
       "    </tr>\n",
       "    <tr>\n",
       "      <th>4</th>\n",
       "      <td>animejima.xyz</td>\n",
       "      <td>http://animejima.xyz/2008%E5%B9%B4%EF%BC%88%E5...</td>\n",
       "      <td>https://ja.wikipedia.org/wiki/%E3%81%A8%E3%81%...</td>\n",
       "      <td></td>\n",
       "      <td>https://ja.wikipedia.org/wiki/%E3%81%A8%E3%81%...</td>\n",
       "      <td>ja</td>\n",
       "      <td>とある魔術の禁書目録 (アニメ)</td>\n",
       "    </tr>\n",
       "    <tr>\n",
       "      <th>...</th>\n",
       "      <td>...</td>\n",
       "      <td>...</td>\n",
       "      <td>...</td>\n",
       "      <td>...</td>\n",
       "      <td>...</td>\n",
       "      <td>...</td>\n",
       "      <td>...</td>\n",
       "    </tr>\n",
       "    <tr>\n",
       "      <th>90805362</th>\n",
       "      <td>wirelessinfo.be</td>\n",
       "      <td>http://www.wirelessinfo.be/mikrotik-draadloos-...</td>\n",
       "      <td>https://en.wikipedia.org/wiki/Customer-premise...</td>\n",
       "      <td></td>\n",
       "      <td>https://en.wikipedia.org/wiki/Customer-premise...</td>\n",
       "      <td>en</td>\n",
       "      <td>Customer-premises equipment</td>\n",
       "    </tr>\n",
       "    <tr>\n",
       "      <th>90805363</th>\n",
       "      <td>wirelessinfo.be</td>\n",
       "      <td>http://www.wirelessinfo.be/mikrotik-draadloos-...</td>\n",
       "      <td>https://nl.wikipedia.org/wiki/Service_Set_Iden...</td>\n",
       "      <td></td>\n",
       "      <td>https://nl.wikipedia.org/wiki/Service_Set_Iden...</td>\n",
       "      <td>nl</td>\n",
       "      <td>Service Set Identifier</td>\n",
       "    </tr>\n",
       "    <tr>\n",
       "      <th>90805364</th>\n",
       "      <td>wirelessinfo.be</td>\n",
       "      <td>http://www.wirelessinfo.be/mikrotik-draadloos-...</td>\n",
       "      <td>https://en.wikipedia.org/wiki/Wireless_Interne...</td>\n",
       "      <td></td>\n",
       "      <td>https://en.wikipedia.org/wiki/Wireless_Interne...</td>\n",
       "      <td>en</td>\n",
       "      <td>Wireless Internet service provider</td>\n",
       "    </tr>\n",
       "    <tr>\n",
       "      <th>90805365</th>\n",
       "      <td>wirelessinfo.be</td>\n",
       "      <td>http://www.wirelessinfo.be/mikrotik-draadloos-...</td>\n",
       "      <td>https://en.wikipedia.org/wiki/Wireless_Interne...</td>\n",
       "      <td></td>\n",
       "      <td>https://en.wikipedia.org/wiki/Wireless_Interne...</td>\n",
       "      <td>en</td>\n",
       "      <td>Wireless Internet service provider</td>\n",
       "    </tr>\n",
       "    <tr>\n",
       "      <th>90805366</th>\n",
       "      <td>woxikon.com.br</td>\n",
       "      <td>http://www.woxikon.com.br/af/javaans</td>\n",
       "      <td>https://pt.wikipedia.org/wiki/javaans</td>\n",
       "      <td></td>\n",
       "      <td>https://pt.wikipedia.org/wiki/javaans</td>\n",
       "      <td>pt</td>\n",
       "      <td>Javaans</td>\n",
       "    </tr>\n",
       "  </tbody>\n",
       "</table>\n",
       "<p>90805367 rows × 7 columns</p>\n",
       "</div>"
      ],
      "text/plain": [
       "                       domain  \\\n",
       "0             agorapoliton.gr   \n",
       "1               amipsyche.com   \n",
       "2         analysebrassens.com   \n",
       "3               animejima.xyz   \n",
       "4               animejima.xyz   \n",
       "...                       ...   \n",
       "90805362      wirelessinfo.be   \n",
       "90805363      wirelessinfo.be   \n",
       "90805364      wirelessinfo.be   \n",
       "90805365      wirelessinfo.be   \n",
       "90805366       woxikon.com.br   \n",
       "\n",
       "                                                        url  \\\n",
       "0         http://agorapoliton.gr/index.php?Itemid=62&cat...   \n",
       "1         http://amipsyche.com/6-romantic-ideas-for-newl...   \n",
       "2         http://analysebrassens.com?analysebrassens=d74...   \n",
       "3         http://animejima.xyz/2008%E5%B9%B4%EF%BC%88%E5...   \n",
       "4         http://animejima.xyz/2008%E5%B9%B4%EF%BC%88%E5...   \n",
       "...                                                     ...   \n",
       "90805362  http://www.wirelessinfo.be/mikrotik-draadloos-...   \n",
       "90805363  http://www.wirelessinfo.be/mikrotik-draadloos-...   \n",
       "90805364  http://www.wirelessinfo.be/mikrotik-draadloos-...   \n",
       "90805365  http://www.wirelessinfo.be/mikrotik-draadloos-...   \n",
       "90805366               http://www.woxikon.com.br/af/javaans   \n",
       "\n",
       "                                                  wiki_link  \\\n",
       "0         https://en.wikipedia.org/wiki/Economy_of_North...   \n",
       "1                    https://en.wikipedia.org/wiki/Newlywed   \n",
       "2         http://fr.wikipedia.org/wiki/Homosexualit%C3%A...   \n",
       "3         https://ja.wikipedia.org/wiki/%E3%81%A8%E3%81%...   \n",
       "4         https://ja.wikipedia.org/wiki/%E3%81%A8%E3%81%...   \n",
       "...                                                     ...   \n",
       "90805362  https://en.wikipedia.org/wiki/Customer-premise...   \n",
       "90805363  https://nl.wikipedia.org/wiki/Service_Set_Iden...   \n",
       "90805364  https://en.wikipedia.org/wiki/Wireless_Interne...   \n",
       "90805365  https://en.wikipedia.org/wiki/Wireless_Interne...   \n",
       "90805366              https://pt.wikipedia.org/wiki/javaans   \n",
       "\n",
       "                                                    subset  \\\n",
       "0                                                            \n",
       "1                                                            \n",
       "2         #Pers.C3.A9cutions_des_r.C3.A9gimes_totalitaires   \n",
       "3                                                            \n",
       "4                                                            \n",
       "...                                                    ...   \n",
       "90805362                                                     \n",
       "90805363                                                     \n",
       "90805364                                                     \n",
       "90805365                                                     \n",
       "90805366                                                     \n",
       "\n",
       "                                             wiki_no_subset wikidb  \\\n",
       "0         https://en.wikipedia.org/wiki/Economy_of_North...     en   \n",
       "1                    https://en.wikipedia.org/wiki/Newlywed     en   \n",
       "2           http://fr.wikipedia.org/wiki/Homosexualit%C3%A9     fr   \n",
       "3         https://ja.wikipedia.org/wiki/%E3%81%A8%E3%81%...     ja   \n",
       "4         https://ja.wikipedia.org/wiki/%E3%81%A8%E3%81%...     ja   \n",
       "...                                                     ...    ...   \n",
       "90805362  https://en.wikipedia.org/wiki/Customer-premise...     en   \n",
       "90805363  https://nl.wikipedia.org/wiki/Service_Set_Iden...     nl   \n",
       "90805364  https://en.wikipedia.org/wiki/Wireless_Interne...     en   \n",
       "90805365  https://en.wikipedia.org/wiki/Wireless_Interne...     en   \n",
       "90805366              https://pt.wikipedia.org/wiki/javaans     pt   \n",
       "\n",
       "                                       title  \n",
       "0                     Economy of North Korea  \n",
       "1                                   Newlywed  \n",
       "2                              Homosexualité  \n",
       "3                           とある魔術の禁書目録 (アニメ)  \n",
       "4                           とある魔術の禁書目録 (アニメ)  \n",
       "...                                      ...  \n",
       "90805362         Customer-premises equipment  \n",
       "90805363              Service Set Identifier  \n",
       "90805364  Wireless Internet service provider  \n",
       "90805365  Wireless Internet service provider  \n",
       "90805366                             Javaans  \n",
       "\n",
       "[90805367 rows x 7 columns]"
      ]
     },
     "execution_count": 47,
     "metadata": {},
     "output_type": "execute_result"
    }
   ],
   "source": [
    "df2"
   ]
  },
  {
   "cell_type": "code",
   "execution_count": 40,
   "metadata": {},
   "outputs": [
    {
     "data": {
      "text/plain": [
       "wikidb\n",
       "en           3619416\n",
       "de            824981\n",
       "fr            692220\n",
       "ja            656086\n",
       "es            486811\n",
       "ru            465283\n",
       "wikipedia     385730\n",
       "it            350046\n",
       "pt            226713\n",
       "sv            221530\n",
       "nl            206727\n",
       "zh            161789\n",
       "pl            161395\n",
       "cs            141455\n",
       "uk            127204\n",
       "id            119333\n",
       "fa            112221\n",
       "ca            110216\n",
       "ar            107824\n",
       "bg            103601\n",
       "vi            101427\n",
       "tr             99039\n",
       "he             88318\n",
       "hu             86229\n",
       "ko             72900\n",
       "no             72296\n",
       "fi             71098\n",
       "ro             65901\n",
       "el             62544\n",
       "da             58859\n",
       "hak3           53226\n",
       "commons        47878\n",
       "sr             44833\n",
       "eo             40107\n",
       "eu             39772\n",
       "sk             37492\n",
       "hr             36819\n",
       "th             36224\n",
       "simple         36217\n",
       "ms             34318\n",
       "Name: title, dtype: int64"
      ]
     },
     "execution_count": 40,
     "metadata": {},
     "output_type": "execute_result"
    }
   ],
   "source": [
    "df2.groupby(\"wikidb\")[\"title\"].nunique().sort_values(ascending=False).head(40)"
   ]
  },
  {
   "cell_type": "code",
   "execution_count": 37,
   "metadata": {},
   "outputs": [
    {
     "data": {
      "text/plain": [
       "wikidb\n",
       "en           14462267\n",
       "de            2128814\n",
       "fr            1465997\n",
       "es            1262583\n",
       "ru            1105698\n",
       "it             851533\n",
       "ja             818110\n",
       "pt             413034\n",
       "pl             376167\n",
       "nl             366933\n",
       "cs             363751\n",
       "id             295297\n",
       "sv             256776\n",
       "uk             243633\n",
       "wikipedia      199230\n",
       "zh             196394\n",
       "fa             190329\n",
       "hu             183534\n",
       "sk             181753\n",
       "ca             165729\n",
       "ro             153050\n",
       "ar             147981\n",
       "vi             146623\n",
       "tr             134869\n",
       "he             134776\n",
       "fi             120354\n",
       "no             116502\n",
       "bg             108988\n",
       "commons        104387\n",
       "el             103774\n",
       "ko              92725\n",
       "da              87090\n",
       "eo              76502\n",
       "sr              72177\n",
       "simple          67200\n",
       "donate          61846\n",
       "hr              61382\n",
       "et              60739\n",
       "th              60353\n",
       "eu              59642\n",
       "Name: url, dtype: int64"
      ]
     },
     "execution_count": 37,
     "metadata": {},
     "output_type": "execute_result"
    }
   ],
   "source": [
    "df2.groupby(\"wikidb\")[\"url\"].nunique().sort_values(ascending=False).head(40)"
   ]
  },
  {
   "cell_type": "code",
   "execution_count": 33,
   "metadata": {},
   "outputs": [
    {
     "data": {
      "text/plain": [
       "wikidb\n",
       "en           940239\n",
       "de           155887\n",
       "fr            96875\n",
       "es            88903\n",
       "ja            56651\n",
       "it            55329\n",
       "ru            53219\n",
       "nl            33953\n",
       "pt            27350\n",
       "pl            23012\n",
       "id            20732\n",
       "cs            16336\n",
       "sv            14716\n",
       "fa            12023\n",
       "vi            11190\n",
       "zh            10362\n",
       "hu             8256\n",
       "tr             6983\n",
       "no             6939\n",
       "ro             6804\n",
       "fi             6562\n",
       "he             6323\n",
       "simple         6179\n",
       "da             6085\n",
       "ar             6015\n",
       "uk             5878\n",
       "ca             5276\n",
       "commons        5271\n",
       "el             5163\n",
       "www            5133\n",
       "sk             3873\n",
       "th             3645\n",
       "bg             3641\n",
       "wikipedia      3412\n",
       "ko             2735\n",
       "hr             2389\n",
       "lt             2122\n",
       "sr             1841\n",
       "hi             1782\n",
       "translate      1764\n",
       "Name: domain, dtype: int64"
      ]
     },
     "execution_count": 33,
     "metadata": {},
     "output_type": "execute_result"
    }
   ],
   "source": [
    "df2.groupby(\"wikidb\")[\"domain\"].nunique().sort_values(ascending=False).head(40)"
   ]
  },
  {
   "cell_type": "code",
   "execution_count": 34,
   "metadata": {},
   "outputs": [
    {
     "data": {
      "text/plain": [
       "1781825"
      ]
     },
     "execution_count": 34,
     "metadata": {},
     "output_type": "execute_result"
    }
   ],
   "source": [
    "df2.groupby(\"wikidb\")[\"domain\"].nunique().sort_values(ascending=False).sum()"
   ]
  },
  {
   "cell_type": "code",
   "execution_count": 20,
   "metadata": {},
   "outputs": [],
   "source": [
    "df2 = pd.read_parquet(EMBEDDING_DIR + f\"web2wiki/20210201/en/url_mentions.parquet\")"
   ]
  },
  {
   "cell_type": "code",
   "execution_count": 22,
   "metadata": {},
   "outputs": [
    {
     "data": {
      "text/plain": [
       "wikidb\n",
       "en    942273\n",
       "Name: domain, dtype: int64"
      ]
     },
     "execution_count": 22,
     "metadata": {},
     "output_type": "execute_result"
    }
   ],
   "source": [
    "# df2.groupby(\"wikidb\")[\"domain\"].nunique().sort_values(ascending=False)"
   ]
  },
  {
   "cell_type": "code",
   "execution_count": 7,
   "metadata": {},
   "outputs": [],
   "source": [
    "df3 = df2[df2[\"wiki_link\"].str.contains(\"/wiki/\")]"
   ]
  },
  {
   "cell_type": "code",
   "execution_count": 8,
   "metadata": {},
   "outputs": [],
   "source": [
    "df3 = df3.drop_duplicates()"
   ]
  },
  {
   "cell_type": "code",
   "execution_count": 10,
   "metadata": {},
   "outputs": [],
   "source": [
    "title_counts = df3.groupby(\"title\")[\"subset\"].count().sort_values(ascending=False)\n",
    "domain_counts = df3.groupby(\"domain\")[\"subset\"].count().sort_values(ascending=False)"
   ]
  },
  {
   "cell_type": "code",
   "execution_count": null,
   "metadata": {},
   "outputs": [],
   "source": [
    "title_counts.to_csv(\"/scratch/venia/web2wiki/data/processed/title_counts.csv\")\n",
    "domain_counts.to_csv(\"/scratch/venia/web2wiki/data/processed/domain_counts.csv\")\n"
   ]
  },
  {
   "cell_type": "code",
   "execution_count": 15,
   "metadata": {},
   "outputs": [],
   "source": [
    "db_counts = df3.groupby(\"wikidb\")[\"subset\"].count().sort_values(ascending=False)"
   ]
  },
  {
   "cell_type": "code",
   "execution_count": 19,
   "metadata": {},
   "outputs": [],
   "source": [
    "domain_counts.to_csv(\"/scratch/venia/web2wiki/data/processed/wiki_db_counts.csv\")\n"
   ]
  },
  {
   "cell_type": "code",
   "execution_count": 2,
   "metadata": {},
   "outputs": [],
   "source": [
    "domain_counts = pd.read_csv(\"/scratch/venia/web2wiki/data/processed/wiki_db_counts.csv\")"
   ]
  },
  {
   "cell_type": "code",
   "execution_count": null,
   "metadata": {},
   "outputs": [],
   "source": []
  },
  {
   "cell_type": "code",
   "execution_count": 13,
   "metadata": {},
   "outputs": [],
   "source": [
    "bias_scores = pd.read_csv(\"data/bias_scores.csv\")"
   ]
  },
  {
   "cell_type": "code",
   "execution_count": 14,
   "metadata": {},
   "outputs": [
    {
     "data": {
      "text/html": [
       "<div>\n",
       "<style scoped>\n",
       "    .dataframe tbody tr th:only-of-type {\n",
       "        vertical-align: middle;\n",
       "    }\n",
       "\n",
       "    .dataframe tbody tr th {\n",
       "        vertical-align: top;\n",
       "    }\n",
       "\n",
       "    .dataframe thead th {\n",
       "        text-align: right;\n",
       "    }\n",
       "</style>\n",
       "<table border=\"1\" class=\"dataframe\">\n",
       "  <thead>\n",
       "    <tr style=\"text-align: right;\">\n",
       "      <th></th>\n",
       "      <th>domain</th>\n",
       "      <th>url</th>\n",
       "      <th>wiki_link</th>\n",
       "      <th>subset</th>\n",
       "      <th>wiki_no_subset</th>\n",
       "      <th>wikidb</th>\n",
       "      <th>title</th>\n",
       "    </tr>\n",
       "  </thead>\n",
       "  <tbody>\n",
       "    <tr>\n",
       "      <th>4</th>\n",
       "      <td>agorapoliton.gr</td>\n",
       "      <td>http://agorapoliton.gr/index.php?Itemid=62&amp;cat...</td>\n",
       "      <td>https://en.wikipedia.org/wiki/Economy_of_North...</td>\n",
       "      <td></td>\n",
       "      <td>https://en.wikipedia.org/wiki/Economy_of_North...</td>\n",
       "      <td>en</td>\n",
       "      <td>Economy of North Korea</td>\n",
       "    </tr>\n",
       "    <tr>\n",
       "      <th>5</th>\n",
       "      <td>amipsyche.com</td>\n",
       "      <td>http://amipsyche.com/6-romantic-ideas-for-newl...</td>\n",
       "      <td>https://en.wikipedia.org/wiki/Newlywed</td>\n",
       "      <td></td>\n",
       "      <td>https://en.wikipedia.org/wiki/Newlywed</td>\n",
       "      <td>en</td>\n",
       "      <td>Newlywed</td>\n",
       "    </tr>\n",
       "    <tr>\n",
       "      <th>6</th>\n",
       "      <td>analysebrassens.com</td>\n",
       "      <td>http://analysebrassens.com?analysebrassens=d74...</td>\n",
       "      <td>http://fr.wikipedia.org/wiki/Homosexualit%C3%A...</td>\n",
       "      <td>#Pers.C3.A9cutions_des_r.C3.A9gimes_totalitaires</td>\n",
       "      <td>http://fr.wikipedia.org/wiki/Homosexualit%C3%A9</td>\n",
       "      <td>fr</td>\n",
       "      <td>Homosexualité</td>\n",
       "    </tr>\n",
       "    <tr>\n",
       "      <th>7</th>\n",
       "      <td>animejima.xyz</td>\n",
       "      <td>http://animejima.xyz/2008%E5%B9%B4%EF%BC%88%E5...</td>\n",
       "      <td>https://ja.wikipedia.org/wiki/%E3%81%A8%E3%81%...</td>\n",
       "      <td></td>\n",
       "      <td>https://ja.wikipedia.org/wiki/%E3%81%A8%E3%81%...</td>\n",
       "      <td>ja</td>\n",
       "      <td>とある魔術の禁書目録 (アニメ)</td>\n",
       "    </tr>\n",
       "    <tr>\n",
       "      <th>9</th>\n",
       "      <td>antifa-info.at</td>\n",
       "      <td>http://antifa-info.at/news/news2020.html</td>\n",
       "      <td>https://de.wikipedia.org/wiki/Ferdinand_von_Sa...</td>\n",
       "      <td></td>\n",
       "      <td>https://de.wikipedia.org/wiki/Ferdinand_von_Sa...</td>\n",
       "      <td>de</td>\n",
       "      <td>Ferdinand von Sammern-Frankenegg</td>\n",
       "    </tr>\n",
       "    <tr>\n",
       "      <th>...</th>\n",
       "      <td>...</td>\n",
       "      <td>...</td>\n",
       "      <td>...</td>\n",
       "      <td>...</td>\n",
       "      <td>...</td>\n",
       "      <td>...</td>\n",
       "      <td>...</td>\n",
       "    </tr>\n",
       "    <tr>\n",
       "      <th>99353386</th>\n",
       "      <td>wirelessinfo.be</td>\n",
       "      <td>http://www.wirelessinfo.be/mikrotik-draadloos-...</td>\n",
       "      <td>https://nl.wikipedia.org/wiki/Effective_radiat...</td>\n",
       "      <td></td>\n",
       "      <td>https://nl.wikipedia.org/wiki/Effective_radiat...</td>\n",
       "      <td>nl</td>\n",
       "      <td>Effective radiated power</td>\n",
       "    </tr>\n",
       "    <tr>\n",
       "      <th>99353387</th>\n",
       "      <td>wirelessinfo.be</td>\n",
       "      <td>http://www.wirelessinfo.be/mikrotik-draadloos-...</td>\n",
       "      <td>https://en.wikipedia.org/wiki/Customer-premise...</td>\n",
       "      <td></td>\n",
       "      <td>https://en.wikipedia.org/wiki/Customer-premise...</td>\n",
       "      <td>en</td>\n",
       "      <td>Customer-premises equipment</td>\n",
       "    </tr>\n",
       "    <tr>\n",
       "      <th>99353388</th>\n",
       "      <td>wirelessinfo.be</td>\n",
       "      <td>http://www.wirelessinfo.be/mikrotik-draadloos-...</td>\n",
       "      <td>https://nl.wikipedia.org/wiki/Service_Set_Iden...</td>\n",
       "      <td></td>\n",
       "      <td>https://nl.wikipedia.org/wiki/Service_Set_Iden...</td>\n",
       "      <td>nl</td>\n",
       "      <td>Service Set Identifier</td>\n",
       "    </tr>\n",
       "    <tr>\n",
       "      <th>99353389</th>\n",
       "      <td>wirelessinfo.be</td>\n",
       "      <td>http://www.wirelessinfo.be/mikrotik-draadloos-...</td>\n",
       "      <td>https://en.wikipedia.org/wiki/Wireless_Interne...</td>\n",
       "      <td></td>\n",
       "      <td>https://en.wikipedia.org/wiki/Wireless_Interne...</td>\n",
       "      <td>en</td>\n",
       "      <td>Wireless Internet service provider</td>\n",
       "    </tr>\n",
       "    <tr>\n",
       "      <th>99353391</th>\n",
       "      <td>woxikon.com.br</td>\n",
       "      <td>http://www.woxikon.com.br/af/javaans</td>\n",
       "      <td>https://pt.wikipedia.org/wiki/javaans</td>\n",
       "      <td></td>\n",
       "      <td>https://pt.wikipedia.org/wiki/javaans</td>\n",
       "      <td>pt</td>\n",
       "      <td>Javaans</td>\n",
       "    </tr>\n",
       "  </tbody>\n",
       "</table>\n",
       "<p>77059399 rows × 7 columns</p>\n",
       "</div>"
      ],
      "text/plain": [
       "                       domain  \\\n",
       "4             agorapoliton.gr   \n",
       "5               amipsyche.com   \n",
       "6         analysebrassens.com   \n",
       "7               animejima.xyz   \n",
       "9              antifa-info.at   \n",
       "...                       ...   \n",
       "99353386      wirelessinfo.be   \n",
       "99353387      wirelessinfo.be   \n",
       "99353388      wirelessinfo.be   \n",
       "99353389      wirelessinfo.be   \n",
       "99353391       woxikon.com.br   \n",
       "\n",
       "                                                        url  \\\n",
       "4         http://agorapoliton.gr/index.php?Itemid=62&cat...   \n",
       "5         http://amipsyche.com/6-romantic-ideas-for-newl...   \n",
       "6         http://analysebrassens.com?analysebrassens=d74...   \n",
       "7         http://animejima.xyz/2008%E5%B9%B4%EF%BC%88%E5...   \n",
       "9                  http://antifa-info.at/news/news2020.html   \n",
       "...                                                     ...   \n",
       "99353386  http://www.wirelessinfo.be/mikrotik-draadloos-...   \n",
       "99353387  http://www.wirelessinfo.be/mikrotik-draadloos-...   \n",
       "99353388  http://www.wirelessinfo.be/mikrotik-draadloos-...   \n",
       "99353389  http://www.wirelessinfo.be/mikrotik-draadloos-...   \n",
       "99353391               http://www.woxikon.com.br/af/javaans   \n",
       "\n",
       "                                                  wiki_link  \\\n",
       "4         https://en.wikipedia.org/wiki/Economy_of_North...   \n",
       "5                    https://en.wikipedia.org/wiki/Newlywed   \n",
       "6         http://fr.wikipedia.org/wiki/Homosexualit%C3%A...   \n",
       "7         https://ja.wikipedia.org/wiki/%E3%81%A8%E3%81%...   \n",
       "9         https://de.wikipedia.org/wiki/Ferdinand_von_Sa...   \n",
       "...                                                     ...   \n",
       "99353386  https://nl.wikipedia.org/wiki/Effective_radiat...   \n",
       "99353387  https://en.wikipedia.org/wiki/Customer-premise...   \n",
       "99353388  https://nl.wikipedia.org/wiki/Service_Set_Iden...   \n",
       "99353389  https://en.wikipedia.org/wiki/Wireless_Interne...   \n",
       "99353391              https://pt.wikipedia.org/wiki/javaans   \n",
       "\n",
       "                                                    subset  \\\n",
       "4                                                            \n",
       "5                                                            \n",
       "6         #Pers.C3.A9cutions_des_r.C3.A9gimes_totalitaires   \n",
       "7                                                            \n",
       "9                                                            \n",
       "...                                                    ...   \n",
       "99353386                                                     \n",
       "99353387                                                     \n",
       "99353388                                                     \n",
       "99353389                                                     \n",
       "99353391                                                     \n",
       "\n",
       "                                             wiki_no_subset wikidb  \\\n",
       "4         https://en.wikipedia.org/wiki/Economy_of_North...     en   \n",
       "5                    https://en.wikipedia.org/wiki/Newlywed     en   \n",
       "6           http://fr.wikipedia.org/wiki/Homosexualit%C3%A9     fr   \n",
       "7         https://ja.wikipedia.org/wiki/%E3%81%A8%E3%81%...     ja   \n",
       "9         https://de.wikipedia.org/wiki/Ferdinand_von_Sa...     de   \n",
       "...                                                     ...    ...   \n",
       "99353386  https://nl.wikipedia.org/wiki/Effective_radiat...     nl   \n",
       "99353387  https://en.wikipedia.org/wiki/Customer-premise...     en   \n",
       "99353388  https://nl.wikipedia.org/wiki/Service_Set_Iden...     nl   \n",
       "99353389  https://en.wikipedia.org/wiki/Wireless_Interne...     en   \n",
       "99353391              https://pt.wikipedia.org/wiki/javaans     pt   \n",
       "\n",
       "                                       title  \n",
       "4                     Economy of North Korea  \n",
       "5                                   Newlywed  \n",
       "6                              Homosexualité  \n",
       "7                           とある魔術の禁書目録 (アニメ)  \n",
       "9           Ferdinand von Sammern-Frankenegg  \n",
       "...                                      ...  \n",
       "99353386            Effective radiated power  \n",
       "99353387         Customer-premises equipment  \n",
       "99353388              Service Set Identifier  \n",
       "99353389  Wireless Internet service provider  \n",
       "99353391                             Javaans  \n",
       "\n",
       "[77059399 rows x 7 columns]"
      ]
     },
     "execution_count": 14,
     "metadata": {},
     "output_type": "execute_result"
    }
   ],
   "source": [
    "# examine the topics that are most shared\n",
    "# the quality of the shares typically compared to all of wiki ? "
   ]
  },
  {
   "cell_type": "code",
   "execution_count": 3,
   "metadata": {},
   "outputs": [],
   "source": []
  },
  {
   "cell_type": "code",
   "execution_count": 9,
   "metadata": {},
   "outputs": [],
   "source": []
  },
  {
   "cell_type": "code",
   "execution_count": null,
   "metadata": {},
   "outputs": [],
   "source": []
  },
  {
   "cell_type": "code",
   "execution_count": 2,
   "metadata": {},
   "outputs": [],
   "source": [
    "import os \n",
    "import pandas as pd \n",
    "\n"
   ]
  },
  {
   "cell_type": "code",
   "execution_count": 15,
   "metadata": {},
   "outputs": [],
   "source": [
    "df = pd.read_csv(\"/scratch/venia/web2wiki/data/page_views/pageviews-20210201-000000.gz\", sep = \" \", header = None, names = [\"db\", \"title\", \"views\",\"download\"])\n",
    "df2 = pd.read_csv(\"/scratch/venia/web2wiki/data/page_views/pageviews-20210202-000000.gz\", sep = \" \", header = None, names = [\"db\", \"title\", \"views\",\"download\"])"
   ]
  },
  {
   "cell_type": "code",
   "execution_count": 16,
   "metadata": {},
   "outputs": [],
   "source": [
    "df.drop(\"download\", axis = 1,inplace=True)\n",
    "df2.drop(\"download\", axis = 1,inplace=True)\n",
    "\n"
   ]
  },
  {
   "cell_type": "code",
   "execution_count": 32,
   "metadata": {},
   "outputs": [],
   "source": [
    "df = df[~df[\"db\"].str.contains(\"[a-z]*.m\")]\n",
    "df2 = df2[~df2[\"db\"].str.contains(\"[a-z]*.m\")]"
   ]
  },
  {
   "cell_type": "code",
   "execution_count": 33,
   "metadata": {},
   "outputs": [
    {
     "name": "stdout",
     "output_type": "stream",
     "text": [
      "18.925930500030518\n"
     ]
    }
   ],
   "source": [
    "import time \n",
    "t = time.time()\n",
    "test = df.merge(df2, on = [\"db\", \"title\"], how = \"outer\").fillna(0).set_index([\"db\", \"title\"]).sum(axis=1)\n",
    "print(time.time() - t)"
   ]
  },
  {
   "cell_type": "code",
   "execution_count": 38,
   "metadata": {},
   "outputs": [],
   "source": [
    "test = test.reset_index()\n",
    "df3 =  test.merge(df2, on = [\"db\", \"title\"], how = \"outer\").fillna(0).set_index([\"db\", \"title\"]).sum(axis=1)"
   ]
  },
  {
   "cell_type": "code",
   "execution_count": 39,
   "metadata": {},
   "outputs": [
    {
     "data": {
      "text/plain": [
       "db    title              \n",
       "aa    -                       6.0\n",
       "      Main_Page              20.0\n",
       "      Special:ActiveUsers     1.0\n",
       "      Special:ListFiles       2.0\n",
       "      Special:ListUsers       1.0\n",
       "                             ... \n",
       "pt.d  0                       1.0\n",
       "ro    0                       2.0\n",
       "ru    0                       1.0\n",
       "tr    0                       2.0\n",
       "zh    0                       1.0\n",
       "Length: 4010054, dtype: float64"
      ]
     },
     "execution_count": 39,
     "metadata": {},
     "output_type": "execute_result"
    }
   ],
   "source": [
    "df3"
   ]
  },
  {
   "cell_type": "code",
   "execution_count": 13,
   "metadata": {},
   "outputs": [
    {
     "data": {
      "text/html": [
       "<div>\n",
       "<style scoped>\n",
       "    .dataframe tbody tr th:only-of-type {\n",
       "        vertical-align: middle;\n",
       "    }\n",
       "\n",
       "    .dataframe tbody tr th {\n",
       "        vertical-align: top;\n",
       "    }\n",
       "\n",
       "    .dataframe thead th {\n",
       "        text-align: right;\n",
       "    }\n",
       "</style>\n",
       "<table border=\"1\" class=\"dataframe\">\n",
       "  <thead>\n",
       "    <tr style=\"text-align: right;\">\n",
       "      <th></th>\n",
       "      <th>db</th>\n",
       "      <th>title</th>\n",
       "      <th>views</th>\n",
       "      <th>download</th>\n",
       "    </tr>\n",
       "  </thead>\n",
       "  <tbody>\n",
       "    <tr>\n",
       "      <th>4984890</th>\n",
       "      <td>pl</td>\n",
       "      <td>Plik:Acetylcholine.svg</td>\n",
       "      <td>1</td>\n",
       "      <td>0</td>\n",
       "    </tr>\n",
       "    <tr>\n",
       "      <th>2467924</th>\n",
       "      <td>en.m</td>\n",
       "      <td>Klidson_Abreu</td>\n",
       "      <td>1</td>\n",
       "      <td>0</td>\n",
       "    </tr>\n",
       "    <tr>\n",
       "      <th>2467926</th>\n",
       "      <td>en.m</td>\n",
       "      <td>Kliff_(band)</td>\n",
       "      <td>1</td>\n",
       "      <td>0</td>\n",
       "    </tr>\n",
       "    <tr>\n",
       "      <th>4632349</th>\n",
       "      <td>ja.m</td>\n",
       "      <td>パク・ソルミ</td>\n",
       "      <td>1</td>\n",
       "      <td>0</td>\n",
       "    </tr>\n",
       "    <tr>\n",
       "      <th>2467928</th>\n",
       "      <td>en.m</td>\n",
       "      <td>Klim_(powdered_milk)</td>\n",
       "      <td>1</td>\n",
       "      <td>0</td>\n",
       "    </tr>\n",
       "    <tr>\n",
       "      <th>...</th>\n",
       "      <td>...</td>\n",
       "      <td>...</td>\n",
       "      <td>...</td>\n",
       "      <td>...</td>\n",
       "    </tr>\n",
       "    <tr>\n",
       "      <th>431542</th>\n",
       "      <td>de</td>\n",
       "      <td>Wikipedia:Hauptseite</td>\n",
       "      <td>23293</td>\n",
       "      <td>0</td>\n",
       "    </tr>\n",
       "    <tr>\n",
       "      <th>2797835</th>\n",
       "      <td>en.m</td>\n",
       "      <td>Royal_Rumble_(2021)</td>\n",
       "      <td>33560</td>\n",
       "      <td>0</td>\n",
       "    </tr>\n",
       "    <tr>\n",
       "      <th>1647561</th>\n",
       "      <td>en</td>\n",
       "      <td>Special:Search</td>\n",
       "      <td>35758</td>\n",
       "      <td>0</td>\n",
       "    </tr>\n",
       "    <tr>\n",
       "      <th>1381265</th>\n",
       "      <td>en</td>\n",
       "      <td>Main_Page</td>\n",
       "      <td>87377</td>\n",
       "      <td>0</td>\n",
       "    </tr>\n",
       "    <tr>\n",
       "      <th>2565112</th>\n",
       "      <td>en.m</td>\n",
       "      <td>Main_Page</td>\n",
       "      <td>176156</td>\n",
       "      <td>0</td>\n",
       "    </tr>\n",
       "  </tbody>\n",
       "</table>\n",
       "<p>5917672 rows × 4 columns</p>\n",
       "</div>"
      ],
      "text/plain": [
       "           db                   title   views  download\n",
       "4984890    pl  Plik:Acetylcholine.svg       1         0\n",
       "2467924  en.m           Klidson_Abreu       1         0\n",
       "2467926  en.m            Kliff_(band)       1         0\n",
       "4632349  ja.m                  パク・ソルミ       1         0\n",
       "2467928  en.m    Klim_(powdered_milk)       1         0\n",
       "...       ...                     ...     ...       ...\n",
       "431542     de    Wikipedia:Hauptseite   23293         0\n",
       "2797835  en.m     Royal_Rumble_(2021)   33560         0\n",
       "1647561    en          Special:Search   35758         0\n",
       "1381265    en               Main_Page   87377         0\n",
       "2565112  en.m               Main_Page  176156         0\n",
       "\n",
       "[5917672 rows x 4 columns]"
      ]
     },
     "execution_count": 13,
     "metadata": {},
     "output_type": "execute_result"
    }
   ],
   "source": [
    "df.sort_values(by = \"views\")"
   ]
  },
  {
   "cell_type": "code",
   "execution_count": 5,
   "metadata": {},
   "outputs": [],
   "source": [
    "\n",
    "import sys\n",
    "sys.path.append(\"/scratch/venia/web2wiki/\")\n",
    "from settings import DATA_DIR\n",
    "import glob\n",
    "\n",
    "files = glob.glob(DATA_DIR + \"page_views/2021-02/pageviews-*\")\n",
    "   "
   ]
  },
  {
   "cell_type": "code",
   "execution_count": 19,
   "metadata": {},
   "outputs": [],
   "source": [
    "schema = \"wikidb STRING, title STRING, views INT, download INT\""
   ]
  },
  {
   "cell_type": "code",
   "execution_count": 20,
   "metadata": {},
   "outputs": [
    {
     "name": "stderr",
     "output_type": "stream",
     "text": [
      "                                                                                \r"
     ]
    }
   ],
   "source": [
    "df = spark.read.option(\"delimiter\", \" \").option(\"header\", \"false\").csv(files, schema = schema)"
   ]
  },
  {
   "cell_type": "code",
   "execution_count": 29,
   "metadata": {},
   "outputs": [
    {
     "ename": "NameError",
     "evalue": "name 'df' is not defined",
     "output_type": "error",
     "traceback": [
      "\u001b[0;31m---------------------------------------------------------------------------\u001b[0m",
      "\u001b[0;31mNameError\u001b[0m                                 Traceback (most recent call last)",
      "Input \u001b[0;32mIn [29]\u001b[0m, in \u001b[0;36m<cell line: 1>\u001b[0;34m()\u001b[0m\n\u001b[0;32m----> 1\u001b[0m \u001b[43mdf\u001b[49m\u001b[38;5;241m.\u001b[39mtake(\u001b[38;5;241m3\u001b[39m)\n",
      "\u001b[0;31mNameError\u001b[0m: name 'df' is not defined"
     ]
    }
   ],
   "source": [
    "df.take(3)"
   ]
  },
  {
   "cell_type": "code",
   "execution_count": null,
   "metadata": {},
   "outputs": [],
   "source": []
  },
  {
   "cell_type": "code",
   "execution_count": 40,
   "metadata": {},
   "outputs": [],
   "source": [
    "grouped = df.groupBy([\"wikidb\", \"title\"]).agg(F.sum(\"views\").alias(\"views\"))"
   ]
  },
  {
   "cell_type": "code",
   "execution_count": null,
   "metadata": {},
   "outputs": [],
   "source": [
    "grouped.write.parquet(\"page_views_2021-02/all_views.parquet\")"
   ]
  },
  {
   "cell_type": "code",
   "execution_count": 3,
   "metadata": {},
   "outputs": [
    {
     "name": "stderr",
     "output_type": "stream",
     "text": [
      "                                                                                \r"
     ]
    }
   ],
   "source": [
    "grouped2 = spark.read.load(\"page_views_2021-02/all_views.parquet\")"
   ]
  },
  {
   "cell_type": "code",
   "execution_count": 6,
   "metadata": {},
   "outputs": [
    {
     "data": {
      "text/plain": [
       "[Row(wikidb='en', title='\"ZHARA\"_International_Music_Festival', views=61),\n",
       " Row(wikidb='en', title='(In_My)_Solitude', views=422),\n",
       " Row(wikidb='en', title=\"...And_the_Bag's_in_the_River\", views=1185),\n",
       " Row(wikidb='en', title='.gm', views=145),\n",
       " Row(wikidb='en', title='10000-Year_Clock', views=14),\n",
       " Row(wikidb='en', title='106th_United_States_Congress', views=3223),\n",
       " Row(wikidb='en', title='10cc_(album)', views=2017),\n",
       " Row(wikidb='en', title='111th_Aviation_Regiment_(United_States)', views=144),\n",
       " Row(wikidb='en', title='11_mm_caliber', views=1821),\n",
       " Row(wikidb='en', title='124_(number)', views=348)]"
      ]
     },
     "execution_count": 6,
     "metadata": {},
     "output_type": "execute_result"
    }
   ],
   "source": []
  },
  {
   "cell_type": "code",
   "execution_count": 181,
   "metadata": {},
   "outputs": [],
   "source": []
  },
  {
   "cell_type": "code",
   "execution_count": 213,
   "metadata": {},
   "outputs": [],
   "source": []
  },
  {
   "cell_type": "code",
   "execution_count": 188,
   "metadata": {},
   "outputs": [],
   "source": [
    "files = next(files_partitioned)"
   ]
  },
  {
   "cell_type": "code",
   "execution_count": 214,
   "metadata": {},
   "outputs": [
    {
     "name": "stdout",
     "output_type": "stream",
     "text": [
      "==================\n",
      "We are on partition 20\n"
     ]
    },
    {
     "name": "stderr",
     "output_type": "stream",
     "text": [
      "\r\n",
      "                                                                                \r"
     ]
    }
   ],
   "source": [
    "\n",
    "print(\"==================\")\n",
    "print(f\"We are on partition {i}\")\n",
    "t = time.time()\n",
    "data = spark.read.load(files)\n"
   ]
  },
  {
   "cell_type": "code",
   "execution_count": 203,
   "metadata": {},
   "outputs": [],
   "source": [
    "data = data.withColumn(\"wiki_links\", extract_soup(F.col(\"content\")))\n"
   ]
  },
  {
   "cell_type": "code",
   "execution_count": null,
   "metadata": {},
   "outputs": [],
   "source": []
  },
  {
   "cell_type": "code",
   "execution_count": 207,
   "metadata": {},
   "outputs": [
    {
     "name": "stdout",
     "output_type": "stream",
     "text": [
      "It took 1.58 seconds to write one chunk.\n"
     ]
    }
   ],
   "source": [
    "selected = run(data)\n",
    "# selected.write.parquet(f\"/scratch/venia/web2wiki/data/wikilinks_extracted_soup/html_embedding{i}.parquet\", mode = \"overwrite\")\n",
    "print(\"It took {:.2f} seconds to write one chunk.\".format(time.time() - t))\n"
   ]
  },
  {
   "cell_type": "code",
   "execution_count": 215,
   "metadata": {},
   "outputs": [],
   "source": [
    "embedding = data.select(extract_soup(\"content\"))"
   ]
  },
  {
   "cell_type": "code",
   "execution_count": 216,
   "metadata": {},
   "outputs": [
    {
     "name": "stderr",
     "output_type": "stream",
     "text": [
      "22/07/06 20:48:09 ERROR Executor: Exception in task 0.0 in stage 25.0 (TID 49)4]\n",
      "org.apache.spark.api.python.PythonException: Traceback (most recent call last):\n",
      "  File \"/tmp/ipykernel_408949/4140495182.py\", line 9, in extract_soup\n",
      "  File \"/home/veselovs/miniconda3/lib/python3.9/site-packages/pyspark/sql/udf.py\", line 199, in wrapper\n",
      "    return self(*args)\n",
      "  File \"/home/veselovs/spark-3.2.1-bin-hadoop2.7/python/lib/pyspark.zip/pyspark/sql/udf.py\", line 177, in __call__\n",
      "    judf = self._judf\n",
      "  File \"/home/veselovs/spark-3.2.1-bin-hadoop2.7/python/lib/pyspark.zip/pyspark/sql/udf.py\", line 161, in _judf\n",
      "    self._judf_placeholder = self._create_judf()\n",
      "  File \"/home/veselovs/spark-3.2.1-bin-hadoop2.7/python/lib/pyspark.zip/pyspark/sql/udf.py\", line 167, in _create_judf\n",
      "    spark = SparkSession.builder.getOrCreate()\n",
      "  File \"/home/veselovs/spark-3.2.1-bin-hadoop2.7/python/lib/pyspark.zip/pyspark/sql/session.py\", line 234, in getOrCreate\n",
      "    return session\n",
      "  File \"/home/veselovs/spark-3.2.1-bin-hadoop2.7/python/lib/pyspark.zip/pyspark/context.py\", line 393, in getOrCreate\n",
      "    return SparkContext._active_spark_context\n",
      "  File \"/home/veselovs/spark-3.2.1-bin-hadoop2.7/python/lib/pyspark.zip/pyspark/context.py\", line 136, in __init__\n",
      "    SparkContext._assert_on_driver()\n",
      "  File \"/home/veselovs/spark-3.2.1-bin-hadoop2.7/python/lib/pyspark.zip/pyspark/context.py\", line 1271, in _assert_on_driver\n",
      "    raise RuntimeError(\"SparkContext should only be created and accessed on the driver.\")\n",
      "RuntimeError: SparkContext should only be created and accessed on the driver.\n",
      "\n",
      "\tat org.apache.spark.api.python.BasePythonRunner$ReaderIterator.handlePythonException(PythonRunner.scala:555)\n",
      "\tat org.apache.spark.sql.execution.python.PythonUDFRunner$$anon$2.read(PythonUDFRunner.scala:86)\n",
      "\tat org.apache.spark.sql.execution.python.PythonUDFRunner$$anon$2.read(PythonUDFRunner.scala:68)\n",
      "\tat org.apache.spark.api.python.BasePythonRunner$ReaderIterator.hasNext(PythonRunner.scala:508)\n",
      "\tat org.apache.spark.InterruptibleIterator.hasNext(InterruptibleIterator.scala:37)\n",
      "\tat scala.collection.Iterator$$anon$11.hasNext(Iterator.scala:491)\n",
      "\tat scala.collection.Iterator$$anon$10.hasNext(Iterator.scala:460)\n",
      "\tat scala.collection.Iterator$$anon$10.hasNext(Iterator.scala:460)\n",
      "\tat org.apache.spark.sql.catalyst.expressions.GeneratedClass$GeneratedIteratorForCodegenStage2.processNext(Unknown Source)\n",
      "\tat org.apache.spark.sql.execution.BufferedRowIterator.hasNext(BufferedRowIterator.java:43)\n",
      "\tat org.apache.spark.sql.execution.WholeStageCodegenExec$$anon$1.hasNext(WholeStageCodegenExec.scala:759)\n",
      "\tat org.apache.spark.sql.execution.SparkPlan.$anonfun$getByteArrayRdd$1(SparkPlan.scala:349)\n",
      "\tat org.apache.spark.rdd.RDD.$anonfun$mapPartitionsInternal$2(RDD.scala:898)\n",
      "\tat org.apache.spark.rdd.RDD.$anonfun$mapPartitionsInternal$2$adapted(RDD.scala:898)\n",
      "\tat org.apache.spark.rdd.MapPartitionsRDD.compute(MapPartitionsRDD.scala:52)\n",
      "\tat org.apache.spark.rdd.RDD.computeOrReadCheckpoint(RDD.scala:373)\n",
      "\tat org.apache.spark.rdd.RDD.iterator(RDD.scala:337)\n",
      "\tat org.apache.spark.scheduler.ResultTask.runTask(ResultTask.scala:90)\n",
      "\tat org.apache.spark.scheduler.Task.run(Task.scala:131)\n",
      "\tat org.apache.spark.executor.Executor$TaskRunner.$anonfun$run$3(Executor.scala:506)\n",
      "\tat org.apache.spark.util.Utils$.tryWithSafeFinally(Utils.scala:1462)\n",
      "\tat org.apache.spark.executor.Executor$TaskRunner.run(Executor.scala:509)\n",
      "\tat java.base/java.util.concurrent.ThreadPoolExecutor.runWorker(ThreadPoolExecutor.java:1128)\n",
      "\tat java.base/java.util.concurrent.ThreadPoolExecutor$Worker.run(ThreadPoolExecutor.java:628)\n",
      "\tat java.base/java.lang.Thread.run(Thread.java:830)\n",
      "22/07/06 20:48:09 WARN TaskSetManager: Lost task 0.0 in stage 25.0 (TID 49) (10.90.38.15 executor driver): org.apache.spark.api.python.PythonException: Traceback (most recent call last):\n",
      "  File \"/tmp/ipykernel_408949/4140495182.py\", line 9, in extract_soup\n",
      "  File \"/home/veselovs/miniconda3/lib/python3.9/site-packages/pyspark/sql/udf.py\", line 199, in wrapper\n",
      "    return self(*args)\n",
      "  File \"/home/veselovs/spark-3.2.1-bin-hadoop2.7/python/lib/pyspark.zip/pyspark/sql/udf.py\", line 177, in __call__\n",
      "    judf = self._judf\n",
      "  File \"/home/veselovs/spark-3.2.1-bin-hadoop2.7/python/lib/pyspark.zip/pyspark/sql/udf.py\", line 161, in _judf\n",
      "    self._judf_placeholder = self._create_judf()\n",
      "  File \"/home/veselovs/spark-3.2.1-bin-hadoop2.7/python/lib/pyspark.zip/pyspark/sql/udf.py\", line 167, in _create_judf\n",
      "    spark = SparkSession.builder.getOrCreate()\n",
      "  File \"/home/veselovs/spark-3.2.1-bin-hadoop2.7/python/lib/pyspark.zip/pyspark/sql/session.py\", line 234, in getOrCreate\n",
      "    return session\n",
      "  File \"/home/veselovs/spark-3.2.1-bin-hadoop2.7/python/lib/pyspark.zip/pyspark/context.py\", line 393, in getOrCreate\n",
      "    return SparkContext._active_spark_context\n",
      "  File \"/home/veselovs/spark-3.2.1-bin-hadoop2.7/python/lib/pyspark.zip/pyspark/context.py\", line 136, in __init__\n",
      "    SparkContext._assert_on_driver()\n",
      "  File \"/home/veselovs/spark-3.2.1-bin-hadoop2.7/python/lib/pyspark.zip/pyspark/context.py\", line 1271, in _assert_on_driver\n",
      "    raise RuntimeError(\"SparkContext should only be created and accessed on the driver.\")\n",
      "RuntimeError: SparkContext should only be created and accessed on the driver.\n",
      "\n",
      "\tat org.apache.spark.api.python.BasePythonRunner$ReaderIterator.handlePythonException(PythonRunner.scala:555)\n",
      "\tat org.apache.spark.sql.execution.python.PythonUDFRunner$$anon$2.read(PythonUDFRunner.scala:86)\n",
      "\tat org.apache.spark.sql.execution.python.PythonUDFRunner$$anon$2.read(PythonUDFRunner.scala:68)\n",
      "\tat org.apache.spark.api.python.BasePythonRunner$ReaderIterator.hasNext(PythonRunner.scala:508)\n",
      "\tat org.apache.spark.InterruptibleIterator.hasNext(InterruptibleIterator.scala:37)\n",
      "\tat scala.collection.Iterator$$anon$11.hasNext(Iterator.scala:491)\n",
      "\tat scala.collection.Iterator$$anon$10.hasNext(Iterator.scala:460)\n",
      "\tat scala.collection.Iterator$$anon$10.hasNext(Iterator.scala:460)\n",
      "\tat org.apache.spark.sql.catalyst.expressions.GeneratedClass$GeneratedIteratorForCodegenStage2.processNext(Unknown Source)\n",
      "\tat org.apache.spark.sql.execution.BufferedRowIterator.hasNext(BufferedRowIterator.java:43)\n",
      "\tat org.apache.spark.sql.execution.WholeStageCodegenExec$$anon$1.hasNext(WholeStageCodegenExec.scala:759)\n",
      "\tat org.apache.spark.sql.execution.SparkPlan.$anonfun$getByteArrayRdd$1(SparkPlan.scala:349)\n",
      "\tat org.apache.spark.rdd.RDD.$anonfun$mapPartitionsInternal$2(RDD.scala:898)\n",
      "\tat org.apache.spark.rdd.RDD.$anonfun$mapPartitionsInternal$2$adapted(RDD.scala:898)\n",
      "\tat org.apache.spark.rdd.MapPartitionsRDD.compute(MapPartitionsRDD.scala:52)\n",
      "\tat org.apache.spark.rdd.RDD.computeOrReadCheckpoint(RDD.scala:373)\n",
      "\tat org.apache.spark.rdd.RDD.iterator(RDD.scala:337)\n",
      "\tat org.apache.spark.scheduler.ResultTask.runTask(ResultTask.scala:90)\n",
      "\tat org.apache.spark.scheduler.Task.run(Task.scala:131)\n",
      "\tat org.apache.spark.executor.Executor$TaskRunner.$anonfun$run$3(Executor.scala:506)\n",
      "\tat org.apache.spark.util.Utils$.tryWithSafeFinally(Utils.scala:1462)\n",
      "\tat org.apache.spark.executor.Executor$TaskRunner.run(Executor.scala:509)\n",
      "\tat java.base/java.util.concurrent.ThreadPoolExecutor.runWorker(ThreadPoolExecutor.java:1128)\n",
      "\tat java.base/java.util.concurrent.ThreadPoolExecutor$Worker.run(ThreadPoolExecutor.java:628)\n",
      "\tat java.base/java.lang.Thread.run(Thread.java:830)\n",
      "\n",
      "22/07/06 20:48:09 ERROR TaskSetManager: Task 0 in stage 25.0 failed 1 times; aborting job\n",
      "[Stage 25:=============================>                            (2 + 1) / 4]\r"
     ]
    },
    {
     "ename": "PythonException",
     "evalue": "\n  An exception was thrown from the Python worker. Please see the stack trace below.\nTraceback (most recent call last):\n  File \"/tmp/ipykernel_408949/4140495182.py\", line 9, in extract_soup\n  File \"/home/veselovs/miniconda3/lib/python3.9/site-packages/pyspark/sql/udf.py\", line 199, in wrapper\n    return self(*args)\n  File \"/home/veselovs/spark-3.2.1-bin-hadoop2.7/python/lib/pyspark.zip/pyspark/sql/udf.py\", line 177, in __call__\n    judf = self._judf\n  File \"/home/veselovs/spark-3.2.1-bin-hadoop2.7/python/lib/pyspark.zip/pyspark/sql/udf.py\", line 161, in _judf\n    self._judf_placeholder = self._create_judf()\n  File \"/home/veselovs/spark-3.2.1-bin-hadoop2.7/python/lib/pyspark.zip/pyspark/sql/udf.py\", line 167, in _create_judf\n    spark = SparkSession.builder.getOrCreate()\n  File \"/home/veselovs/spark-3.2.1-bin-hadoop2.7/python/lib/pyspark.zip/pyspark/sql/session.py\", line 234, in getOrCreate\n    return session\n  File \"/home/veselovs/spark-3.2.1-bin-hadoop2.7/python/lib/pyspark.zip/pyspark/context.py\", line 393, in getOrCreate\n    return SparkContext._active_spark_context\n  File \"/home/veselovs/spark-3.2.1-bin-hadoop2.7/python/lib/pyspark.zip/pyspark/context.py\", line 136, in __init__\n    SparkContext._assert_on_driver()\n  File \"/home/veselovs/spark-3.2.1-bin-hadoop2.7/python/lib/pyspark.zip/pyspark/context.py\", line 1271, in _assert_on_driver\n    raise RuntimeError(\"SparkContext should only be created and accessed on the driver.\")\nRuntimeError: SparkContext should only be created and accessed on the driver.\n",
     "output_type": "error",
     "traceback": [
      "\u001b[0;31m---------------------------------------------------------------------------\u001b[0m",
      "\u001b[0;31mPythonException\u001b[0m                           Traceback (most recent call last)",
      "Input \u001b[0;32mIn [216]\u001b[0m, in \u001b[0;36m<cell line: 1>\u001b[0;34m()\u001b[0m\n\u001b[0;32m----> 1\u001b[0m \u001b[43membedding\u001b[49m\u001b[38;5;241;43m.\u001b[39;49m\u001b[43mtake\u001b[49m\u001b[43m(\u001b[49m\u001b[38;5;241;43m3\u001b[39;49m\u001b[43m)\u001b[49m\n",
      "File \u001b[0;32m~/miniconda3/lib/python3.9/site-packages/pyspark/sql/dataframe.py:744\u001b[0m, in \u001b[0;36mDataFrame.take\u001b[0;34m(self, num)\u001b[0m\n\u001b[1;32m    734\u001b[0m \u001b[38;5;28;01mdef\u001b[39;00m \u001b[38;5;21mtake\u001b[39m(\u001b[38;5;28mself\u001b[39m, num):\n\u001b[1;32m    735\u001b[0m     \u001b[38;5;124;03m\"\"\"Returns the first ``num`` rows as a :class:`list` of :class:`Row`.\u001b[39;00m\n\u001b[1;32m    736\u001b[0m \n\u001b[1;32m    737\u001b[0m \u001b[38;5;124;03m    .. versionadded:: 1.3.0\u001b[39;00m\n\u001b[0;32m   (...)\u001b[0m\n\u001b[1;32m    742\u001b[0m \u001b[38;5;124;03m    [Row(age=2, name='Alice'), Row(age=5, name='Bob')]\u001b[39;00m\n\u001b[1;32m    743\u001b[0m \u001b[38;5;124;03m    \"\"\"\u001b[39;00m\n\u001b[0;32m--> 744\u001b[0m     \u001b[38;5;28;01mreturn\u001b[39;00m \u001b[38;5;28;43mself\u001b[39;49m\u001b[38;5;241;43m.\u001b[39;49m\u001b[43mlimit\u001b[49m\u001b[43m(\u001b[49m\u001b[43mnum\u001b[49m\u001b[43m)\u001b[49m\u001b[38;5;241;43m.\u001b[39;49m\u001b[43mcollect\u001b[49m\u001b[43m(\u001b[49m\u001b[43m)\u001b[49m\n",
      "File \u001b[0;32m~/miniconda3/lib/python3.9/site-packages/pyspark/sql/dataframe.py:693\u001b[0m, in \u001b[0;36mDataFrame.collect\u001b[0;34m(self)\u001b[0m\n\u001b[1;32m    683\u001b[0m \u001b[38;5;124;03m\"\"\"Returns all the records as a list of :class:`Row`.\u001b[39;00m\n\u001b[1;32m    684\u001b[0m \n\u001b[1;32m    685\u001b[0m \u001b[38;5;124;03m.. versionadded:: 1.3.0\u001b[39;00m\n\u001b[0;32m   (...)\u001b[0m\n\u001b[1;32m    690\u001b[0m \u001b[38;5;124;03m[Row(age=2, name='Alice'), Row(age=5, name='Bob')]\u001b[39;00m\n\u001b[1;32m    691\u001b[0m \u001b[38;5;124;03m\"\"\"\u001b[39;00m\n\u001b[1;32m    692\u001b[0m \u001b[38;5;28;01mwith\u001b[39;00m SCCallSiteSync(\u001b[38;5;28mself\u001b[39m\u001b[38;5;241m.\u001b[39m_sc) \u001b[38;5;28;01mas\u001b[39;00m css:\n\u001b[0;32m--> 693\u001b[0m     sock_info \u001b[38;5;241m=\u001b[39m \u001b[38;5;28;43mself\u001b[39;49m\u001b[38;5;241;43m.\u001b[39;49m\u001b[43m_jdf\u001b[49m\u001b[38;5;241;43m.\u001b[39;49m\u001b[43mcollectToPython\u001b[49m\u001b[43m(\u001b[49m\u001b[43m)\u001b[49m\n\u001b[1;32m    694\u001b[0m \u001b[38;5;28;01mreturn\u001b[39;00m \u001b[38;5;28mlist\u001b[39m(_load_from_socket(sock_info, BatchedSerializer(PickleSerializer())))\n",
      "File \u001b[0;32m~/miniconda3/lib/python3.9/site-packages/py4j/java_gateway.py:1321\u001b[0m, in \u001b[0;36mJavaMember.__call__\u001b[0;34m(self, *args)\u001b[0m\n\u001b[1;32m   1315\u001b[0m command \u001b[38;5;241m=\u001b[39m proto\u001b[38;5;241m.\u001b[39mCALL_COMMAND_NAME \u001b[38;5;241m+\u001b[39m\\\n\u001b[1;32m   1316\u001b[0m     \u001b[38;5;28mself\u001b[39m\u001b[38;5;241m.\u001b[39mcommand_header \u001b[38;5;241m+\u001b[39m\\\n\u001b[1;32m   1317\u001b[0m     args_command \u001b[38;5;241m+\u001b[39m\\\n\u001b[1;32m   1318\u001b[0m     proto\u001b[38;5;241m.\u001b[39mEND_COMMAND_PART\n\u001b[1;32m   1320\u001b[0m answer \u001b[38;5;241m=\u001b[39m \u001b[38;5;28mself\u001b[39m\u001b[38;5;241m.\u001b[39mgateway_client\u001b[38;5;241m.\u001b[39msend_command(command)\n\u001b[0;32m-> 1321\u001b[0m return_value \u001b[38;5;241m=\u001b[39m \u001b[43mget_return_value\u001b[49m\u001b[43m(\u001b[49m\n\u001b[1;32m   1322\u001b[0m \u001b[43m    \u001b[49m\u001b[43manswer\u001b[49m\u001b[43m,\u001b[49m\u001b[43m \u001b[49m\u001b[38;5;28;43mself\u001b[39;49m\u001b[38;5;241;43m.\u001b[39;49m\u001b[43mgateway_client\u001b[49m\u001b[43m,\u001b[49m\u001b[43m \u001b[49m\u001b[38;5;28;43mself\u001b[39;49m\u001b[38;5;241;43m.\u001b[39;49m\u001b[43mtarget_id\u001b[49m\u001b[43m,\u001b[49m\u001b[43m \u001b[49m\u001b[38;5;28;43mself\u001b[39;49m\u001b[38;5;241;43m.\u001b[39;49m\u001b[43mname\u001b[49m\u001b[43m)\u001b[49m\n\u001b[1;32m   1324\u001b[0m \u001b[38;5;28;01mfor\u001b[39;00m temp_arg \u001b[38;5;129;01min\u001b[39;00m temp_args:\n\u001b[1;32m   1325\u001b[0m     temp_arg\u001b[38;5;241m.\u001b[39m_detach()\n",
      "File \u001b[0;32m~/miniconda3/lib/python3.9/site-packages/pyspark/sql/utils.py:117\u001b[0m, in \u001b[0;36mcapture_sql_exception.<locals>.deco\u001b[0;34m(*a, **kw)\u001b[0m\n\u001b[1;32m    113\u001b[0m converted \u001b[38;5;241m=\u001b[39m convert_exception(e\u001b[38;5;241m.\u001b[39mjava_exception)\n\u001b[1;32m    114\u001b[0m \u001b[38;5;28;01mif\u001b[39;00m \u001b[38;5;129;01mnot\u001b[39;00m \u001b[38;5;28misinstance\u001b[39m(converted, UnknownException):\n\u001b[1;32m    115\u001b[0m     \u001b[38;5;66;03m# Hide where the exception came from that shows a non-Pythonic\u001b[39;00m\n\u001b[1;32m    116\u001b[0m     \u001b[38;5;66;03m# JVM exception message.\u001b[39;00m\n\u001b[0;32m--> 117\u001b[0m     \u001b[38;5;28;01mraise\u001b[39;00m converted \u001b[38;5;28;01mfrom\u001b[39;00m \u001b[38;5;28mNone\u001b[39m\n\u001b[1;32m    118\u001b[0m \u001b[38;5;28;01melse\u001b[39;00m:\n\u001b[1;32m    119\u001b[0m     \u001b[38;5;28;01mraise\u001b[39;00m\n",
      "\u001b[0;31mPythonException\u001b[0m: \n  An exception was thrown from the Python worker. Please see the stack trace below.\nTraceback (most recent call last):\n  File \"/tmp/ipykernel_408949/4140495182.py\", line 9, in extract_soup\n  File \"/home/veselovs/miniconda3/lib/python3.9/site-packages/pyspark/sql/udf.py\", line 199, in wrapper\n    return self(*args)\n  File \"/home/veselovs/spark-3.2.1-bin-hadoop2.7/python/lib/pyspark.zip/pyspark/sql/udf.py\", line 177, in __call__\n    judf = self._judf\n  File \"/home/veselovs/spark-3.2.1-bin-hadoop2.7/python/lib/pyspark.zip/pyspark/sql/udf.py\", line 161, in _judf\n    self._judf_placeholder = self._create_judf()\n  File \"/home/veselovs/spark-3.2.1-bin-hadoop2.7/python/lib/pyspark.zip/pyspark/sql/udf.py\", line 167, in _create_judf\n    spark = SparkSession.builder.getOrCreate()\n  File \"/home/veselovs/spark-3.2.1-bin-hadoop2.7/python/lib/pyspark.zip/pyspark/sql/session.py\", line 234, in getOrCreate\n    return session\n  File \"/home/veselovs/spark-3.2.1-bin-hadoop2.7/python/lib/pyspark.zip/pyspark/context.py\", line 393, in getOrCreate\n    return SparkContext._active_spark_context\n  File \"/home/veselovs/spark-3.2.1-bin-hadoop2.7/python/lib/pyspark.zip/pyspark/context.py\", line 136, in __init__\n    SparkContext._assert_on_driver()\n  File \"/home/veselovs/spark-3.2.1-bin-hadoop2.7/python/lib/pyspark.zip/pyspark/context.py\", line 1271, in _assert_on_driver\n    raise RuntimeError(\"SparkContext should only be created and accessed on the driver.\")\nRuntimeError: SparkContext should only be created and accessed on the driver.\n"
     ]
    },
    {
     "name": "stderr",
     "output_type": "stream",
     "text": [
      "22/07/06 20:48:09 WARN TaskSetManager: Lost task 2.0 in stage 25.0 (TID 51) (10.90.38.15 executor driver): TaskKilled (Stage cancelled)\n"
     ]
    }
   ],
   "source": [
    "embedding.take(3)"
   ]
  },
  {
   "cell_type": "code",
   "execution_count": null,
   "metadata": {},
   "outputs": [],
   "source": []
  }
 ],
 "metadata": {
  "interpreter": {
   "hash": "ed444a188fe79d313a08a1dc27903f38ca296ba8abbf632984a7900d41b64eaa"
  },
  "kernelspec": {
   "display_name": "Python 3 (ipykernel)",
   "language": "python",
   "name": "python3"
  },
  "language_info": {
   "codemirror_mode": {
    "name": "ipython",
    "version": 3
   },
   "file_extension": ".py",
   "mimetype": "text/x-python",
   "name": "python",
   "nbconvert_exporter": "python",
   "pygments_lexer": "ipython3",
   "version": "3.9.7"
  }
 },
 "nbformat": 4,
 "nbformat_minor": 2
}
