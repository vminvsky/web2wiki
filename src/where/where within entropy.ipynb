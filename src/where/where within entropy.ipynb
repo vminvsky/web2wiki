{
 "cells": [
  {
   "attachments": {},
   "cell_type": "markdown",
   "id": "bd86f60a",
   "metadata": {},
   "source": [
    "### In this file we explore the entropy of where people link Wikipedia pages."
   ]
  },
  {
   "cell_type": "code",
   "execution_count": 1,
   "id": "2fd5a7d5",
   "metadata": {},
   "outputs": [],
   "source": [
    "import pandas as pd\n",
    "\n",
    "df = pd.read_csv(\"/scratch/venia/web2wiki/data/web_content/iterative_coding_sample/cleaner_data.csv\")\n",
    "df = df[df[\"link_type\"] == 1]"
   ]
  },
  {
   "cell_type": "markdown",
   "id": "abd9041b",
   "metadata": {},
   "source": [
    "## Entropy"
   ]
  },
  {
   "cell_type": "code",
   "execution_count": 8,
   "id": "bba1daab",
   "metadata": {},
   "outputs": [],
   "source": [
    "t = df.groupby([\"order\",\"wiki_links\"])[\"url\"].count().sort_values().reset_index()\n",
    "t[\"total_count\"] = t.groupby(\"order\")[\"url\"].transform(\"sum\")"
   ]
  },
  {
   "cell_type": "code",
   "execution_count": 9,
   "id": "cd9e2e7b",
   "metadata": {},
   "outputs": [],
   "source": [
    "t[\"p\"] = t[\"url\"] / t[\"total_count\"]\n",
    "zero = t[t[\"order\"] == 0]\n",
    "one = t[t[\"order\"] == 1]\n",
    "two = t[t[\"order\"] == 2]"
   ]
  },
  {
   "cell_type": "code",
   "execution_count": 10,
   "id": "6b0e759e",
   "metadata": {},
   "outputs": [
    {
     "name": "stdout",
     "output_type": "stream",
     "text": [
      "7.662213134869051\n",
      "8.70280722272202\n",
      "8.479102012602683\n"
     ]
    }
   ],
   "source": [
    "from scipy.stats import entropy\n",
    "print(entropy(zero.sample(len(two))[\"p\"]))\n",
    "print(entropy(one.sample(len(two))[\"p\"]))\n",
    "print(entropy(two.sample(len(two))[\"p\"]))"
   ]
  },
  {
   "cell_type": "code",
   "execution_count": null,
   "id": "ef3c930e",
   "metadata": {},
   "outputs": [],
   "source": []
  }
 ],
 "metadata": {
  "kernelspec": {
   "display_name": "Python 3",
   "language": "python",
   "name": "python3"
  },
  "language_info": {
   "codemirror_mode": {
    "name": "ipython",
    "version": 3
   },
   "file_extension": ".py",
   "mimetype": "text/x-python",
   "name": "python",
   "nbconvert_exporter": "python",
   "pygments_lexer": "ipython3",
   "version": "3.9.7"
  },
  "vscode": {
   "interpreter": {
    "hash": "ed444a188fe79d313a08a1dc27903f38ca296ba8abbf632984a7900d41b64eaa"
   }
  }
 },
 "nbformat": 4,
 "nbformat_minor": 5
}
