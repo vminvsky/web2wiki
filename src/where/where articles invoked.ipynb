{
 "cells": [
  {
   "cell_type": "code",
   "execution_count": 7,
   "id": "e02a3fdf",
   "metadata": {},
   "outputs": [
    {
     "name": "stderr",
     "output_type": "stream",
     "text": [
      "23/01/15 20:04:56 WARN Utils: Your hostname, iccluster039 resolves to a loopback address: 127.0.1.1; using 10.90.38.15 instead (on interface ens786f0)\n",
      "23/01/15 20:04:56 WARN Utils: Set SPARK_LOCAL_IP if you need to bind to another address\n",
      "WARNING: An illegal reflective access operation has occurred\n",
      "WARNING: Illegal reflective access by org.apache.spark.unsafe.Platform (file:/home/veselovs/spark-3.2.1-bin-hadoop2.7/jars/spark-unsafe_2.12-3.2.1.jar) to constructor java.nio.DirectByteBuffer(long,int)\n",
      "WARNING: Please consider reporting this to the maintainers of org.apache.spark.unsafe.Platform\n",
      "WARNING: Use --illegal-access=warn to enable warnings of further illegal reflective access operations\n",
      "WARNING: All illegal access operations will be denied in a future release\n",
      "Using Spark's default log4j profile: org/apache/spark/log4j-defaults.properties\n",
      "Setting default log level to \"WARN\".\n",
      "To adjust logging level use sc.setLogLevel(newLevel). For SparkR, use setLogLevel(newLevel).\n",
      "23/01/15 20:05:16 WARN NativeCodeLoader: Unable to load native-hadoop library for your platform... using builtin-java classes where applicable\n",
      "23/01/15 20:05:16 WARN SparkConf: Note that spark.local.dir will be overridden by the value set by the cluster manager (via SPARK_LOCAL_DIRS in mesos/standalone/kubernetes and LOCAL_DIRS in YARN).\n",
      "23/01/15 20:05:19 WARN Utils: Service 'SparkUI' could not bind on port 4040. Attempting port 4041.\n",
      "23/01/15 20:05:19 WARN Utils: Service 'SparkUI' could not bind on port 4041. Attempting port 4042.\n",
      "23/01/15 20:05:19 WARN Utils: Service 'SparkUI' could not bind on port 4042. Attempting port 4043.\n",
      "23/01/15 20:05:19 WARN Utils: Service 'SparkUI' could not bind on port 4043. Attempting port 4044.\n",
      "23/01/15 20:05:19 WARN Utils: Service 'SparkUI' could not bind on port 4044. Attempting port 4045.\n"
     ]
    }
   ],
   "source": [
    "import pyspark.sql.functions as F\n",
    "from pyspark.sql.types import *\n",
    "import pyspark\n",
    "from pyspark.sql import SparkSession\n",
    "from pyspark import SparkContext\n",
    "from pyspark.sql import Row\n",
    "import pyarrow.parquet as pq\n",
    "import pyarrow as pa\n",
    "import os\n",
    "\n",
    "# from homepage2vec.model import WebsiteClassifier\n",
    "\n",
    "\n",
    "\n",
    "os.environ['SPARK_HOME'] = \"/home/veselovs/spark-3.2.1-bin-hadoop2.7\"\n",
    "os.environ['JAVA_HOME'] = \"/home/veselovs/jdk-13.0.2\"\n",
    "spark = SparkSession.builder.getOrCreate()\n"
   ]
  },
  {
   "cell_type": "code",
   "execution_count": 8,
   "id": "e5d55b66",
   "metadata": {},
   "outputs": [],
   "source": [
    "import pandas as pd\n",
    "import matplotlib.pyplot as plt\n",
    "import numpy as np\n",
    "import seaborn as sns\n",
    "\n",
    "from collections import OrderedDict\n",
    "sns.set_style(\"whitegrid\", {'axes.grid' : False})\n",
    "\n",
    "@F.udf \n",
    "def reverse_reverse_host(x):\n",
    "    x = x.split(\".\")\n",
    "    x = x[-1::-1]\n",
    "    x = \".\".join(x)\n",
    "    return x\n"
   ]
  },
  {
   "cell_type": "code",
   "execution_count": 5,
   "id": "86cb4174",
   "metadata": {},
   "outputs": [
    {
     "ename": "NameError",
     "evalue": "name 'spark' is not defined",
     "output_type": "error",
     "traceback": [
      "\u001b[0;31m---------------------------------------------------------------------------\u001b[0m",
      "\u001b[0;31mNameError\u001b[0m                                 Traceback (most recent call last)",
      "Input \u001b[0;32mIn [5]\u001b[0m, in \u001b[0;36m<cell line: 1>\u001b[0;34m()\u001b[0m\n\u001b[0;32m----> 1\u001b[0m common_crawl \u001b[38;5;241m=\u001b[39m \u001b[43mspark\u001b[49m\u001b[38;5;241m.\u001b[39mread\u001b[38;5;241m.\u001b[39mparquet(\u001b[38;5;124m\"\u001b[39m\u001b[38;5;124m/scratch/venia/web2wiki/data/common_crawl_random_sample.parquet\u001b[39m\u001b[38;5;124m\"\u001b[39m)\n",
      "\u001b[0;31mNameError\u001b[0m: name 'spark' is not defined"
     ]
    }
   ],
   "source": [
    "common_crawl = spark.read.parquet(\"/scratch/venia/web2wiki/data/common_crawl_random_sample.parquet\")\n"
   ]
  },
  {
   "cell_type": "code",
   "execution_count": 6,
   "id": "17751a5b",
   "metadata": {},
   "outputs": [
    {
     "ename": "NameError",
     "evalue": "name 'common_crawl' is not defined",
     "output_type": "error",
     "traceback": [
      "\u001b[0;31m---------------------------------------------------------------------------\u001b[0m",
      "\u001b[0;31mNameError\u001b[0m                                 Traceback (most recent call last)",
      "Input \u001b[0;32mIn [6]\u001b[0m, in \u001b[0;36m<cell line: 1>\u001b[0;34m()\u001b[0m\n\u001b[0;32m----> 1\u001b[0m \u001b[43mcommon_crawl\u001b[49m\u001b[38;5;241m.\u001b[39mfilter(F\u001b[38;5;241m.\u001b[39mcol(\u001b[38;5;124m\"\u001b[39m\u001b[38;5;124m_c2\u001b[39m\u001b[38;5;124m\"\u001b[39m)\u001b[38;5;241m.\u001b[39mcast(IntegerType())\u001b[38;5;241m<\u001b[39m\u001b[38;5;241m100000\u001b[39m)\u001b[38;5;241m.\u001b[39mtake(\u001b[38;5;241m3\u001b[39m)\n",
      "\u001b[0;31mNameError\u001b[0m: name 'common_crawl' is not defined"
     ]
    }
   ],
   "source": [
    "common_crawl.filter(F.col(\"_c2\").cast(IntegerType())<100000).take(3)"
   ]
  },
  {
   "cell_type": "code",
   "execution_count": null,
   "id": "b272d0db",
   "metadata": {},
   "outputs": [],
   "source": [
    "common_crawl = common_crawl.withColumn(\"domain\", reverse_reverse_host(\"_c4\"))\n",
    "common_crawl = common_crawl.select(\"*\").orderBy(F.rand())\n",
    "sample = common_crawl.sample(0.01)\n",
    "sample = sample.filter(F.col(\"domain\").rlike(\"\\.com|\\.ca|\\.co\\.uk|\\.org\"))\n",
    "sample = sample.select(\"domain\").toPandas()"
   ]
  },
  {
   "cell_type": "code",
   "execution_count": 5,
   "id": "4fed0936",
   "metadata": {},
   "outputs": [],
   "source": []
  },
  {
   "cell_type": "code",
   "execution_count": 6,
   "id": "17d28f86",
   "metadata": {},
   "outputs": [],
   "source": [
    "df = spark.read.load(\"/scratch/venia/web2wiki/data/merged_metadata.parquet\")"
   ]
  },
  {
   "cell_type": "code",
   "execution_count": 7,
   "id": "3ecb9add",
   "metadata": {},
   "outputs": [],
   "source": [
    "df = df.select(\"*\").orderBy(F.rand())\n",
    "df = df.dropDuplicates(subset=[\"domain\"]).select(\"domain\")\n",
    "wiki_sample = df.sample(0.05)\n",
    "wiki_sample = wiki_sample.toPandas()"
   ]
  },
  {
   "cell_type": "code",
   "execution_count": 16,
   "id": "82996def",
   "metadata": {
    "scrolled": true
   },
   "outputs": [
    {
     "name": "stderr",
     "output_type": "stream",
     "text": [
      "                                                                                \r"
     ]
    }
   ],
   "source": []
  },
  {
   "cell_type": "code",
   "execution_count": 18,
   "id": "621bc7f4",
   "metadata": {},
   "outputs": [],
   "source": [
    "\n",
    "\n",
    "wiki_sample.head(50000).to_csv(\"/scratch/venia/web2wiki/data/homepage2vec/wiki_sample.csv\",index=False)\n",
    "\n",
    "sample.head(50000).to_csv(\"/scratch/venia/web2wiki/data/homepage2vec/common_crawl_sample.csv\",index=False)\n",
    "\n",
    "\n"
   ]
  },
  {
   "cell_type": "code",
   "execution_count": 9,
   "id": "722eaa52",
   "metadata": {},
   "outputs": [],
   "source": [
    "wiki_sample = pd.read_csv(\"/scratch/venia/web2wiki/data/homepage2vec/wiki_sample.csv\")\n",
    "\n",
    "sample = pd.read_csv(\"/scratch/venia/web2wiki/data/homepage2vec/common_crawl_sample.csv\")\n"
   ]
  },
  {
   "cell_type": "code",
   "execution_count": 10,
   "id": "8957366e",
   "metadata": {},
   "outputs": [],
   "source": [
    "ws = wiki_sample.head(10000)\n",
    "cs = sample.head(10000)"
   ]
  },
  {
   "cell_type": "code",
   "execution_count": 11,
   "id": "e72075c2",
   "metadata": {},
   "outputs": [
    {
     "ename": "NameError",
     "evalue": "name 'WebsiteClassifier' is not defined",
     "output_type": "error",
     "traceback": [
      "\u001b[0;31m---------------------------------------------------------------------------\u001b[0m",
      "\u001b[0;31mNameError\u001b[0m                                 Traceback (most recent call last)",
      "Input \u001b[0;32mIn [11]\u001b[0m, in \u001b[0;36m<cell line: 1>\u001b[0;34m()\u001b[0m\n\u001b[0;32m----> 1\u001b[0m model \u001b[38;5;241m=\u001b[39m \u001b[43mWebsiteClassifier\u001b[49m(cpu_threads_count\u001b[38;5;241m=\u001b[39m\u001b[38;5;241m20\u001b[39m, dataloader_workers\u001b[38;5;241m=\u001b[39m\u001b[38;5;241m20\u001b[39m)\n",
      "\u001b[0;31mNameError\u001b[0m: name 'WebsiteClassifier' is not defined"
     ]
    }
   ],
   "source": [
    "model = WebsiteClassifier(cpu_threads_count=20, dataloader_workers=20)\n"
   ]
  },
  {
   "cell_type": "code",
   "execution_count": null,
   "id": "db18165c",
   "metadata": {
    "scrolled": true
   },
   "outputs": [],
   "source": [
    "def get_scores(domain):\n",
    "    try:\n",
    "        website = model.fetch_website(domain)\n",
    "        scores, embeddings = model.predict(website)\n",
    "    except:\n",
    "        scores = None\n",
    "    return (domain,scores)\n",
    "\n",
    "\n",
    "def process_samples(df):\n",
    "    scores_list = []\n",
    "    for i, value in df.iterrows():\n",
    "        domain = value[\"domain\"]\n",
    "        scores_list.append(get_scores(domain))\n",
    "    return scores_list\n",
    "        "
   ]
  },
  {
   "cell_type": "code",
   "execution_count": 29,
   "id": "412b3b2b",
   "metadata": {},
   "outputs": [
    {
     "name": "stdout",
     "output_type": "stream",
     "text": [
      "149.29002571105957\n"
     ]
    }
   ],
   "source": [
    "import time\n",
    "t = time.time()\n",
    "vals = process_samples(cs.sample(100))\n",
    "print(time.time()- t)"
   ]
  },
  {
   "cell_type": "code",
   "execution_count": null,
   "id": "f04498df",
   "metadata": {},
   "outputs": [],
   "source": []
  },
  {
   "cell_type": "code",
   "execution_count": null,
   "id": "f74eb9a5",
   "metadata": {
    "scrolled": true
   },
   "outputs": [
    {
     "name": "stdout",
     "output_type": "stream",
     "text": [
      "Starting\n"
     ]
    },
    {
     "name": "stderr",
     "output_type": "stream",
     "text": [
      "/home/veselovs/miniconda3/lib/python3.9/site-packages/huggingface_hub/file_download.py:621: FutureWarning: `cached_download` is the legacy way to download files from the HF hub, please consider upgrading to `hf_hub_download`\n",
      "  warnings.warn(\n"
     ]
    }
   ],
   "source": [
    "print(\"Starting\")\n",
    "sample_wiki = process_samples(ws)\n",
    "print(\"ONTO THE WEB\")\n",
    "sample_web = process_samples(cs)"
   ]
  },
  {
   "cell_type": "code",
   "execution_count": 10,
   "id": "f822a7c3",
   "metadata": {},
   "outputs": [],
   "source": [
    "wiki_scores = pd.DataFrame(sample_wiki)\n",
    "sample_web = pd.DataFrame(sample_web)"
   ]
  },
  {
   "cell_type": "code",
   "execution_count": 12,
   "id": "001b5d82",
   "metadata": {},
   "outputs": [],
   "source": [
    "wiki_scores.to_csv(\"/scratch/venia/web2wiki/data/homepage2vec/10k_wiki.csv\",index=False)\n",
    "sample_web.to_csv(\"/scratch/venia/web2wiki/data/homepage2vec/10k_web.csv\",index=False)\n"
   ]
  },
  {
   "cell_type": "code",
   "execution_count": 12,
   "id": "a1366535",
   "metadata": {},
   "outputs": [],
   "source": [
    "wiki_scores = pd.read_csv(\"/scratch/venia/web2wiki/data/homepage2vec/10k_wiki.csv\")\n",
    "sample_web = pd.read_csv(\"/scratch/venia/web2wiki/data/homepage2vec/10k_web.csv\")"
   ]
  },
  {
   "cell_type": "code",
   "execution_count": null,
   "id": "2c1d73df",
   "metadata": {},
   "outputs": [],
   "source": []
  },
  {
   "cell_type": "code",
   "execution_count": null,
   "id": "83701991",
   "metadata": {},
   "outputs": [],
   "source": []
  },
  {
   "cell_type": "code",
   "execution_count": 13,
   "id": "e723ccfa",
   "metadata": {},
   "outputs": [],
   "source": [
    "wiki_scores = wiki_scores.dropna()"
   ]
  },
  {
   "cell_type": "code",
   "execution_count": 14,
   "id": "05718887",
   "metadata": {},
   "outputs": [],
   "source": [
    "sample_web = sample_web.dropna()"
   ]
  },
  {
   "cell_type": "code",
   "execution_count": 15,
   "id": "6d3a9951",
   "metadata": {},
   "outputs": [],
   "source": [
    "wiki_scores.index = wiki_scores[\"0\"]\n",
    "sample_web.index = sample_web[\"0\"]"
   ]
  },
  {
   "cell_type": "code",
   "execution_count": 16,
   "id": "bd184e34",
   "metadata": {},
   "outputs": [],
   "source": [
    "wiki_scores[\"1\"] = wiki_scores[\"1\"].apply(eval)\n",
    "sample_web[\"1\"] = sample_web[\"1\"].apply(eval)\n",
    "\n",
    "wss = wiki_scores[\"1\"].apply(pd.Series)\n",
    "sws = sample_web[\"1\"].apply(pd.Series)"
   ]
  },
  {
   "cell_type": "code",
   "execution_count": null,
   "id": "6f5fa8e8",
   "metadata": {},
   "outputs": [],
   "source": []
  },
  {
   "cell_type": "code",
   "execution_count": 17,
   "id": "43c5a202",
   "metadata": {},
   "outputs": [],
   "source": [
    "wiki_mean = wss.mean()"
   ]
  },
  {
   "cell_type": "code",
   "execution_count": 18,
   "id": "6f0f3d34",
   "metadata": {},
   "outputs": [],
   "source": [
    "web_mean = sws.mean()"
   ]
  },
  {
   "cell_type": "code",
   "execution_count": 19,
   "id": "d6838727",
   "metadata": {},
   "outputs": [],
   "source": [
    "wiki_mean.index = [k.replace(\"_\", \" \") for k in wiki_mean.index]\n",
    "web_mean.index = [k.replace(\"_\", \" \") for k in web_mean.index]"
   ]
  },
  {
   "cell_type": "code",
   "execution_count": 20,
   "id": "0cb3ab28",
   "metadata": {},
   "outputs": [],
   "source": [
    "vals = (wiki_mean-web_mean).sort_values(ascending=False)"
   ]
  },
  {
   "cell_type": "code",
   "execution_count": null,
   "id": "f825fdd5",
   "metadata": {},
   "outputs": [],
   "source": []
  },
  {
   "cell_type": "code",
   "execution_count": 21,
   "id": "466b65ec",
   "metadata": {},
   "outputs": [],
   "source": [
    "wiki_mean = wiki_mean.sort_values()"
   ]
  },
  {
   "cell_type": "code",
   "execution_count": 136,
   "id": "67941571",
   "metadata": {},
   "outputs": [],
   "source": [
    "vals = vals.abs().sort_values()"
   ]
  },
  {
   "cell_type": "code",
   "execution_count": 28,
   "id": "41635e76",
   "metadata": {},
   "outputs": [
    {
     "data": {
      "image/png": "[encoded data removed]",
      "text/plain": [
       "<Figure size 432x288 with 1 Axes>"
      ]
     },
     "metadata": {},
     "output_type": "display_data"
    }
   ],
   "source": [
    "fig,ax=plt.subplots()\n",
    "for i,val in zip(vals.index, vals):\n",
    "    val1 = wiki_mean[wiki_mean.index==i].values[0]\n",
    "    val2 = web_mean[web_mean.index==i].values[0]\n",
    "    plt.axhline(i, 0,1,alpha = 0.4, linewidth = 0.3, color = \"k\")\n",
    "\n",
    "    x1 = min([val1,val2])\n",
    "    x2 = max([val1,val2])\n",
    "    \n",
    "    if val1 > val2:\n",
    "        plt.hlines(i,xmin = x1,xmax =x2)\n",
    "    else:\n",
    "        plt.hlines(i,xmin = x1,xmax =x2, color = \"tab:red\", alpha = 0.6)\n",
    "    \n",
    "plt.scatter(wiki_mean.values,wiki_mean.index,label = \"Web linking to Wikipedia\", color = \"#A5D8FF\")\n",
    "plt.scatter(web_mean.values,web_mean.index, label = \"Web overall\", color = \"#C49799\")\n",
    "\n",
    "plt.tick_params(labelsize = 12)\n",
    "plt.legend(frameon = True, loc = \"lower right\", fontsize = 10)\n",
    "plt.xlabel(\"Probability\", fontsize = 15)\n",
    "plt.ylabel(\"Curlie Topic\", fontsize = 15)\n",
    "ax.spines['top'].set_visible(False)\n",
    "ax.spines['right'].set_visible(False)\n",
    "ax.spines['bottom'].set_visible(False)\n",
    "ax.spines['left'].set_visible(False)\n",
    "plt.savefig(\"/scratch/venia/web2wiki/visuals/where_shared2.pdf\",dpi = 300, bbox_inches=\"tight\")"
   ]
  },
  {
   "cell_type": "code",
   "execution_count": null,
   "id": "d2ddf3cb",
   "metadata": {},
   "outputs": [],
   "source": []
  },
  {
   "cell_type": "code",
   "execution_count": 26,
   "id": "c2fc73cc",
   "metadata": {},
   "outputs": [],
   "source": [
    "df = pd.read_parquet(\"/scratch/venia/web2wiki/data/merged_metadata.parquet\")"
   ]
  },
  {
   "cell_type": "code",
   "execution_count": 27,
   "id": "2a3ec3c1",
   "metadata": {},
   "outputs": [],
   "source": [
    "domain_counts = df.groupby(\"domain\")[\"count\"].sum()"
   ]
  },
  {
   "cell_type": "code",
   "execution_count": 28,
   "id": "86cf4b89",
   "metadata": {},
   "outputs": [
    {
     "data": {
      "text/plain": [
       "domain\n",
       "blogspot.com        1269850\n",
       "wordpress.com       1223110\n",
       "portalfield.com      524458\n",
       "wikimedia.org        415872\n",
       "pungenerator.org     298216\n",
       "coinshome.net        253809\n",
       "wikitrans.net        253700\n",
       "fandom.com           235903\n",
       "dbpedia.org          195229\n",
       "appspot.com          191901\n",
       "Name: count, dtype: int64"
      ]
     },
     "execution_count": 28,
     "metadata": {},
     "output_type": "execute_result"
    }
   ],
   "source": [
    "domain_counts.sort_values(ascending=False).head(10)"
   ]
  },
  {
   "cell_type": "code",
   "execution_count": null,
   "id": "54e044eb",
   "metadata": {},
   "outputs": [],
   "source": []
  },
  {
   "cell_type": "code",
   "execution_count": 31,
   "id": "dbfd759e",
   "metadata": {},
   "outputs": [
    {
     "name": "stdout",
     "output_type": "stream",
     "text": [
      "Percentage More than 100: 0.0319917674862661 Num more than 1: 40881\n"
     ]
    }
   ],
   "source": [
    "print(\"Percentage More than 100:\", len(domain_counts[domain_counts>100]) / len(domain_counts), \"Num more than 1:\", len(domain_counts[domain_counts>100]))"
   ]
  },
  {
   "cell_type": "code",
   "execution_count": null,
   "id": "c901e581",
   "metadata": {},
   "outputs": [],
   "source": []
  },
  {
   "cell_type": "code",
   "execution_count": 8,
   "id": "74e8f0a2",
   "metadata": {},
   "outputs": [],
   "source": [
    "urls = spark.read.load(\"/scratch/venia/web2wiki/data/en_wikilinks_url.parquet/\")"
   ]
  },
  {
   "cell_type": "code",
   "execution_count": 11,
   "id": "a0772655",
   "metadata": {},
   "outputs": [
    {
     "name": "stderr",
     "output_type": "stream",
     "text": [
      "                                                                                \r"
     ]
    }
   ],
   "source": [
    "urls.groupBy(\"url\").count().write.parquet(\"/scratch/venia/web2wiki/data/en_url_counts.parquet/\")"
   ]
  },
  {
   "cell_type": "code",
   "execution_count": 6,
   "id": "7d8a9cd8",
   "metadata": {},
   "outputs": [],
   "source": [
    "urls = urls.filter(F.col(\"wikidb\") == \"en\")\n",
    "url_counts = urls.groupBy(\"url\", \"title\").count()"
   ]
  },
  {
   "cell_type": "code",
   "execution_count": 7,
   "id": "6d5a7dc8",
   "metadata": {},
   "outputs": [
    {
     "name": "stderr",
     "output_type": "stream",
     "text": [
      "                                                                                \r"
     ]
    }
   ],
   "source": [
    "url_counts.write.parquet(\"/scratch/venia/web2wiki/data/en_wikilinks_url.parquet\")"
   ]
  },
  {
   "cell_type": "code",
   "execution_count": 12,
   "id": "bfc6e3eb",
   "metadata": {},
   "outputs": [],
   "source": [
    "urls = pd.read_parquet(\"/scratch/venia/web2wiki/data/en_wikilinks_url.parquet/\")"
   ]
  },
  {
   "cell_type": "code",
   "execution_count": null,
   "id": "e32cad61",
   "metadata": {},
   "outputs": [],
   "source": [
    "\n"
   ]
  },
  {
   "cell_type": "code",
   "execution_count": 14,
   "id": "e3a7c0a3",
   "metadata": {},
   "outputs": [],
   "source": [
    "urls[\"is_wiki\"] = urls[\"url\"].apply(lambda x: 1 if \"wiki\" in x or \"pedia\" in x else 0)\n"
   ]
  },
  {
   "cell_type": "code",
   "execution_count": 16,
   "id": "976ca6a8",
   "metadata": {},
   "outputs": [],
   "source": [
    "import re\n",
    "pattern = re.compile(r\"[12][90][89012][0123456789]/[01]\\d\")\n",
    "urls[\"is_blog\"] = urls[\"url\"].apply(lambda x: 1 if \"blog\" in x or bool(pattern.search(x)) else 0)\n",
    "    "
   ]
  },
  {
   "cell_type": "code",
   "execution_count": 19,
   "id": "c3fa26b3",
   "metadata": {
    "scrolled": true
   },
   "outputs": [
    {
     "name": "stdout",
     "output_type": "stream",
     "text": [
      "Percentage Wiki: 0.111103633859358 Num Wiki: 4444458\n"
     ]
    }
   ],
   "source": [
    "print(\"Percentage Wiki:\", urls[\"is_wiki\"].sum() / len(urls), \"Num Wiki:\", urls[\"is_wiki\"].sum())"
   ]
  },
  {
   "cell_type": "code",
   "execution_count": 20,
   "id": "65f3913a",
   "metadata": {
    "scrolled": true
   },
   "outputs": [
    {
     "name": "stdout",
     "output_type": "stream",
     "text": [
      "Percentage Blog: 0.2946180986167623 Num Blog: 11785553\n"
     ]
    }
   ],
   "source": [
    "print(\"Percentage Blog:\", urls[\"is_blog\"].sum() / len(urls), \"Num Blog:\", urls[\"is_blog\"].sum())"
   ]
  },
  {
   "cell_type": "code",
   "execution_count": 24,
   "id": "507c7e6f",
   "metadata": {},
   "outputs": [
    {
     "name": "stdout",
     "output_type": "stream",
     "text": [
      "Percentage More than 1: 0.09487425059647053 Num more than 1: 3795237\n"
     ]
    }
   ],
   "source": [
    "print(\"Percentage More than 1:\", len(urls[urls[\"count\"]>1]) / len(urls), \"Num more than 1:\", len(urls[urls[\"count\"]>1]))"
   ]
  },
  {
   "cell_type": "code",
   "execution_count": 22,
   "id": "b74c1244",
   "metadata": {
    "scrolled": true
   },
   "outputs": [
    {
     "data": {
      "text/html": [
       "<div>\n",
       "<style scoped>\n",
       "    .dataframe tbody tr th:only-of-type {\n",
       "        vertical-align: middle;\n",
       "    }\n",
       "\n",
       "    .dataframe tbody tr th {\n",
       "        vertical-align: top;\n",
       "    }\n",
       "\n",
       "    .dataframe thead th {\n",
       "        text-align: right;\n",
       "    }\n",
       "</style>\n",
       "<table border=\"1\" class=\"dataframe\">\n",
       "  <thead>\n",
       "    <tr style=\"text-align: right;\">\n",
       "      <th></th>\n",
       "      <th>url</th>\n",
       "      <th>title</th>\n",
       "      <th>count</th>\n",
       "      <th>is_wiki</th>\n",
       "      <th>is_blog</th>\n",
       "    </tr>\n",
       "  </thead>\n",
       "  <tbody>\n",
       "    <tr>\n",
       "      <th>15661936</th>\n",
       "      <td>http://artlessononline.blogspot.com/2015/11</td>\n",
       "      <td>Realism (arts)</td>\n",
       "      <td>2</td>\n",
       "      <td>0</td>\n",
       "      <td>1</td>\n",
       "    </tr>\n",
       "    <tr>\n",
       "      <th>8237272</th>\n",
       "      <td>http://www.blogaboutlibraries.com/licking-coun...</td>\n",
       "      <td>Cambridge University Library</td>\n",
       "      <td>1</td>\n",
       "      <td>0</td>\n",
       "      <td>1</td>\n",
       "    </tr>\n",
       "    <tr>\n",
       "      <th>34190247</th>\n",
       "      <td>http://pineviewfarm.net/2007/12</td>\n",
       "      <td>Swift Boat Veterans for Truth</td>\n",
       "      <td>1</td>\n",
       "      <td>0</td>\n",
       "      <td>1</td>\n",
       "    </tr>\n",
       "    <tr>\n",
       "      <th>8237264</th>\n",
       "      <td>http://afrolegends.com/2016/09/09/why-the-name...</td>\n",
       "      <td>Osu, Accra</td>\n",
       "      <td>1</td>\n",
       "      <td>0</td>\n",
       "      <td>1</td>\n",
       "    </tr>\n",
       "    <tr>\n",
       "      <th>34190246</th>\n",
       "      <td>http://kursors.lv/2020/12/30/kuri-bijusi-2020-...</td>\n",
       "      <td>Chadwick Boseman</td>\n",
       "      <td>1</td>\n",
       "      <td>1</td>\n",
       "      <td>1</td>\n",
       "    </tr>\n",
       "    <tr>\n",
       "      <th>30390768</th>\n",
       "      <td>http://askentomologists.com/2015/07/02/can-i-b...</td>\n",
       "      <td>Harvester ant</td>\n",
       "      <td>1</td>\n",
       "      <td>0</td>\n",
       "      <td>1</td>\n",
       "    </tr>\n",
       "    <tr>\n",
       "      <th>8237267</th>\n",
       "      <td>http://culinaryease.com/2013/11/05/minnesota-b...</td>\n",
       "      <td>Chili pepper</td>\n",
       "      <td>1</td>\n",
       "      <td>0</td>\n",
       "      <td>1</td>\n",
       "    </tr>\n",
       "    <tr>\n",
       "      <th>13622209</th>\n",
       "      <td>http://donysoldcomputers.blogspot.com/2018/03</td>\n",
       "      <td>Xbox (console)</td>\n",
       "      <td>1</td>\n",
       "      <td>0</td>\n",
       "      <td>1</td>\n",
       "    </tr>\n",
       "    <tr>\n",
       "      <th>8237269</th>\n",
       "      <td>http://technode.com/2015/01/23/alibabas-bigges...</td>\n",
       "      <td>Tadashi Yanai</td>\n",
       "      <td>1</td>\n",
       "      <td>0</td>\n",
       "      <td>1</td>\n",
       "    </tr>\n",
       "    <tr>\n",
       "      <th>34190243</th>\n",
       "      <td>http://original.antiwar.com/nicolas_davies/201...</td>\n",
       "      <td>Ngo Dinh Diem</td>\n",
       "      <td>1</td>\n",
       "      <td>0</td>\n",
       "      <td>1</td>\n",
       "    </tr>\n",
       "    <tr>\n",
       "      <th>8237271</th>\n",
       "      <td>http://witsandnuts.net/2010/03/23/the-t-shirt-...</td>\n",
       "      <td>Andrés Bonifacio</td>\n",
       "      <td>1</td>\n",
       "      <td>0</td>\n",
       "      <td>1</td>\n",
       "    </tr>\n",
       "    <tr>\n",
       "      <th>8237273</th>\n",
       "      <td>http://www.kalilily.net/2006/12/15/its-not-beg...</td>\n",
       "      <td>Rupert Friend</td>\n",
       "      <td>1</td>\n",
       "      <td>0</td>\n",
       "      <td>1</td>\n",
       "    </tr>\n",
       "    <tr>\n",
       "      <th>34190264</th>\n",
       "      <td>http://blog.vodkamelone.de/archives/2008/07.html</td>\n",
       "      <td>Output</td>\n",
       "      <td>1</td>\n",
       "      <td>0</td>\n",
       "      <td>1</td>\n",
       "    </tr>\n",
       "    <tr>\n",
       "      <th>8237275</th>\n",
       "      <td>http://dannymiller.typepad.com/blog/2005/10/th...</td>\n",
       "      <td>Dollfuss</td>\n",
       "      <td>1</td>\n",
       "      <td>0</td>\n",
       "      <td>1</td>\n",
       "    </tr>\n",
       "    <tr>\n",
       "      <th>8237276</th>\n",
       "      <td>http://mlarson.org/2013/08/10/weekend-ive-seen...</td>\n",
       "      <td>Weekend (1967 film)</td>\n",
       "      <td>1</td>\n",
       "      <td>0</td>\n",
       "      <td>1</td>\n",
       "    </tr>\n",
       "    <tr>\n",
       "      <th>8237277</th>\n",
       "      <td>http://pontoeletronico.me/pt/2018/12/28/o-ano-...</td>\n",
       "      <td>Social position</td>\n",
       "      <td>1</td>\n",
       "      <td>0</td>\n",
       "      <td>1</td>\n",
       "    </tr>\n",
       "    <tr>\n",
       "      <th>34190240</th>\n",
       "      <td>http://mg.globalvoices.org/2010/07/08/6983</td>\n",
       "      <td>Steganography</td>\n",
       "      <td>1</td>\n",
       "      <td>0</td>\n",
       "      <td>1</td>\n",
       "    </tr>\n",
       "    <tr>\n",
       "      <th>34190239</th>\n",
       "      <td>http://blog.dnevnik.hr/nepoznatizagreb/2018/08...</td>\n",
       "      <td>Heineken International</td>\n",
       "      <td>1</td>\n",
       "      <td>0</td>\n",
       "      <td>1</td>\n",
       "    </tr>\n",
       "    <tr>\n",
       "      <th>8237281</th>\n",
       "      <td>http://rosas-yummy-yums.blogspot.com/2008/12/j...</td>\n",
       "      <td>Sunchoke</td>\n",
       "      <td>2</td>\n",
       "      <td>0</td>\n",
       "      <td>1</td>\n",
       "    </tr>\n",
       "    <tr>\n",
       "      <th>8237282</th>\n",
       "      <td>http://socialiststandardmyspace.blogspot.com/2...</td>\n",
       "      <td>E. H. Carr</td>\n",
       "      <td>1</td>\n",
       "      <td>0</td>\n",
       "      <td>1</td>\n",
       "    </tr>\n",
       "  </tbody>\n",
       "</table>\n",
       "</div>"
      ],
      "text/plain": [
       "                                                        url  \\\n",
       "15661936        http://artlessononline.blogspot.com/2015/11   \n",
       "8237272   http://www.blogaboutlibraries.com/licking-coun...   \n",
       "34190247                    http://pineviewfarm.net/2007/12   \n",
       "8237264   http://afrolegends.com/2016/09/09/why-the-name...   \n",
       "34190246  http://kursors.lv/2020/12/30/kuri-bijusi-2020-...   \n",
       "30390768  http://askentomologists.com/2015/07/02/can-i-b...   \n",
       "8237267   http://culinaryease.com/2013/11/05/minnesota-b...   \n",
       "13622209      http://donysoldcomputers.blogspot.com/2018/03   \n",
       "8237269   http://technode.com/2015/01/23/alibabas-bigges...   \n",
       "34190243  http://original.antiwar.com/nicolas_davies/201...   \n",
       "8237271   http://witsandnuts.net/2010/03/23/the-t-shirt-...   \n",
       "8237273   http://www.kalilily.net/2006/12/15/its-not-beg...   \n",
       "34190264   http://blog.vodkamelone.de/archives/2008/07.html   \n",
       "8237275   http://dannymiller.typepad.com/blog/2005/10/th...   \n",
       "8237276   http://mlarson.org/2013/08/10/weekend-ive-seen...   \n",
       "8237277   http://pontoeletronico.me/pt/2018/12/28/o-ano-...   \n",
       "34190240         http://mg.globalvoices.org/2010/07/08/6983   \n",
       "34190239  http://blog.dnevnik.hr/nepoznatizagreb/2018/08...   \n",
       "8237281   http://rosas-yummy-yums.blogspot.com/2008/12/j...   \n",
       "8237282   http://socialiststandardmyspace.blogspot.com/2...   \n",
       "\n",
       "                                  title  count  is_wiki  is_blog  \n",
       "15661936                 Realism (arts)      2        0        1  \n",
       "8237272    Cambridge University Library      1        0        1  \n",
       "34190247  Swift Boat Veterans for Truth      1        0        1  \n",
       "8237264                      Osu, Accra      1        0        1  \n",
       "34190246               Chadwick Boseman      1        1        1  \n",
       "30390768                  Harvester ant      1        0        1  \n",
       "8237267                    Chili pepper      1        0        1  \n",
       "13622209                 Xbox (console)      1        0        1  \n",
       "8237269                   Tadashi Yanai      1        0        1  \n",
       "34190243                  Ngo Dinh Diem      1        0        1  \n",
       "8237271                Andrés Bonifacio      1        0        1  \n",
       "8237273                   Rupert Friend      1        0        1  \n",
       "34190264                         Output      1        0        1  \n",
       "8237275                        Dollfuss      1        0        1  \n",
       "8237276             Weekend (1967 film)      1        0        1  \n",
       "8237277                 Social position      1        0        1  \n",
       "34190240                  Steganography      1        0        1  \n",
       "34190239         Heineken International      1        0        1  \n",
       "8237281                        Sunchoke      2        0        1  \n",
       "8237282                      E. H. Carr      1        0        1  "
      ]
     },
     "execution_count": 22,
     "metadata": {},
     "output_type": "execute_result"
    }
   ],
   "source": [
    "urls.sort_values(by = \"is_blog\",ascending=False).head(20)"
   ]
  },
  {
   "cell_type": "code",
   "execution_count": 36,
   "id": "e32ff925",
   "metadata": {},
   "outputs": [
    {
     "data": {
      "text/plain": [
       "48829702"
      ]
     },
     "execution_count": 36,
     "metadata": {},
     "output_type": "execute_result"
    }
   ],
   "source": [
    "urls[\"count\"].sum()"
   ]
  },
  {
   "cell_type": "code",
   "execution_count": 42,
   "id": "da81933e",
   "metadata": {},
   "outputs": [
    {
     "data": {
      "text/html": [
       "<div>\n",
       "<style scoped>\n",
       "    .dataframe tbody tr th:only-of-type {\n",
       "        vertical-align: middle;\n",
       "    }\n",
       "\n",
       "    .dataframe tbody tr th {\n",
       "        vertical-align: top;\n",
       "    }\n",
       "\n",
       "    .dataframe thead th {\n",
       "        text-align: right;\n",
       "    }\n",
       "</style>\n",
       "<table border=\"1\" class=\"dataframe\">\n",
       "  <thead>\n",
       "    <tr style=\"text-align: right;\">\n",
       "      <th></th>\n",
       "      <th>url</th>\n",
       "      <th>title</th>\n",
       "      <th>count</th>\n",
       "      <th>is_wiki</th>\n",
       "      <th>is_blog</th>\n",
       "    </tr>\n",
       "  </thead>\n",
       "  <tbody>\n",
       "    <tr>\n",
       "      <th>1772</th>\n",
       "      <td>http://stricollections.org/portal/taxa/index.p...</td>\n",
       "      <td>Dendropanax gonatopodus</td>\n",
       "      <td>1</td>\n",
       "      <td>0</td>\n",
       "      <td>0</td>\n",
       "    </tr>\n",
       "    <tr>\n",
       "      <th>3152</th>\n",
       "      <td>http://portalfield.com/news/global/1059378</td>\n",
       "      <td>Ranking member</td>\n",
       "      <td>2</td>\n",
       "      <td>0</td>\n",
       "      <td>0</td>\n",
       "    </tr>\n",
       "    <tr>\n",
       "      <th>4877</th>\n",
       "      <td>http://2012portal.blogspot.com/2014/07/fall-of...</td>\n",
       "      <td>Castle Koon</td>\n",
       "      <td>1</td>\n",
       "      <td>0</td>\n",
       "      <td>1</td>\n",
       "    </tr>\n",
       "    <tr>\n",
       "      <th>6075</th>\n",
       "      <td>http://cityofbonitasprings.org/cms/one.aspx?pa...</td>\n",
       "      <td>Fort Myers Miracle</td>\n",
       "      <td>1</td>\n",
       "      <td>0</td>\n",
       "      <td>0</td>\n",
       "    </tr>\n",
       "    <tr>\n",
       "      <th>6510</th>\n",
       "      <td>http://indianentertainmentportal.com/sherlock-...</td>\n",
       "      <td>David Arnold</td>\n",
       "      <td>1</td>\n",
       "      <td>0</td>\n",
       "      <td>0</td>\n",
       "    </tr>\n",
       "    <tr>\n",
       "      <th>...</th>\n",
       "      <td>...</td>\n",
       "      <td>...</td>\n",
       "      <td>...</td>\n",
       "      <td>...</td>\n",
       "      <td>...</td>\n",
       "    </tr>\n",
       "    <tr>\n",
       "      <th>39996021</th>\n",
       "      <td>http://landofoakandironlocalhistoryportal.org....</td>\n",
       "      <td>Harry Clasper</td>\n",
       "      <td>1</td>\n",
       "      <td>0</td>\n",
       "      <td>0</td>\n",
       "    </tr>\n",
       "    <tr>\n",
       "      <th>39996287</th>\n",
       "      <td>http://usa-essay-portal.com/homework-help-alge...</td>\n",
       "      <td>Wikipedia:Contact us</td>\n",
       "      <td>1</td>\n",
       "      <td>0</td>\n",
       "      <td>0</td>\n",
       "    </tr>\n",
       "    <tr>\n",
       "      <th>39996362</th>\n",
       "      <td>http://sportalic.com/teams/bulgaria/beroe-star...</td>\n",
       "      <td>Beroe Stadium</td>\n",
       "      <td>1</td>\n",
       "      <td>0</td>\n",
       "      <td>0</td>\n",
       "    </tr>\n",
       "    <tr>\n",
       "      <th>39998596</th>\n",
       "      <td>http://www.grimm-portal.de/viewer/fullscreen/1...</td>\n",
       "      <td>Wilhelm Grimm</td>\n",
       "      <td>1</td>\n",
       "      <td>0</td>\n",
       "      <td>0</td>\n",
       "    </tr>\n",
       "    <tr>\n",
       "      <th>40002049</th>\n",
       "      <td>http://portal.rotfaithai.com/modules.php?file=...</td>\n",
       "      <td>Woodlands Train Checkpoint</td>\n",
       "      <td>1</td>\n",
       "      <td>0</td>\n",
       "      <td>0</td>\n",
       "    </tr>\n",
       "  </tbody>\n",
       "</table>\n",
       "<p>40572 rows × 5 columns</p>\n",
       "</div>"
      ],
      "text/plain": [
       "                                                        url  \\\n",
       "1772      http://stricollections.org/portal/taxa/index.p...   \n",
       "3152             http://portalfield.com/news/global/1059378   \n",
       "4877      http://2012portal.blogspot.com/2014/07/fall-of...   \n",
       "6075      http://cityofbonitasprings.org/cms/one.aspx?pa...   \n",
       "6510      http://indianentertainmentportal.com/sherlock-...   \n",
       "...                                                     ...   \n",
       "39996021  http://landofoakandironlocalhistoryportal.org....   \n",
       "39996287  http://usa-essay-portal.com/homework-help-alge...   \n",
       "39996362  http://sportalic.com/teams/bulgaria/beroe-star...   \n",
       "39998596  http://www.grimm-portal.de/viewer/fullscreen/1...   \n",
       "40002049  http://portal.rotfaithai.com/modules.php?file=...   \n",
       "\n",
       "                               title  count  is_wiki  is_blog  \n",
       "1772         Dendropanax gonatopodus      1        0        0  \n",
       "3152                  Ranking member      2        0        0  \n",
       "4877                     Castle Koon      1        0        1  \n",
       "6075              Fort Myers Miracle      1        0        0  \n",
       "6510                    David Arnold      1        0        0  \n",
       "...                              ...    ...      ...      ...  \n",
       "39996021               Harry Clasper      1        0        0  \n",
       "39996287        Wikipedia:Contact us      1        0        0  \n",
       "39996362               Beroe Stadium      1        0        0  \n",
       "39998596               Wilhelm Grimm      1        0        0  \n",
       "40002049  Woodlands Train Checkpoint      1        0        0  \n",
       "\n",
       "[40572 rows x 5 columns]"
      ]
     },
     "execution_count": 42,
     "metadata": {},
     "output_type": "execute_result"
    }
   ],
   "source": [
    "urls[urls[\"url\"].str.contains(\"portal\")]"
   ]
  },
  {
   "cell_type": "code",
   "execution_count": null,
   "id": "cc5bd911",
   "metadata": {},
   "outputs": [],
   "source": []
  },
  {
   "cell_type": "code",
   "execution_count": null,
   "id": "ae744d38",
   "metadata": {},
   "outputs": [],
   "source": []
  }
 ],
 "metadata": {
  "kernelspec": {
   "display_name": "Python 3 (ipykernel)",
   "language": "python",
   "name": "python3"
  },
  "language_info": {
   "codemirror_mode": {
    "name": "ipython",
    "version": 3
   },
   "file_extension": ".py",
   "mimetype": "text/x-python",
   "name": "python",
   "nbconvert_exporter": "python",
   "pygments_lexer": "ipython3",
   "version": "3.9.7"
  }
 },
 "nbformat": 4,
 "nbformat_minor": 5
}
