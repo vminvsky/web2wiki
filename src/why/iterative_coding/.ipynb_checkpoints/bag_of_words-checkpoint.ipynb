{
 "cells": [
  {
   "cell_type": "code",
   "execution_count": 1,
   "id": "d75827ef",
   "metadata": {},
   "outputs": [
    {
     "name": "stderr",
     "output_type": "stream",
     "text": [
      "2022-09-23 10:13:58.711286: W tensorflow/stream_executor/platform/default/dso_loader.cc:64] Could not load dynamic library 'libcudart.so.11.0'; dlerror: libcudart.so.11.0: cannot open shared object file: No such file or directory\n",
      "2022-09-23 10:13:58.711331: I tensorflow/stream_executor/cuda/cudart_stub.cc:29] Ignore above cudart dlerror if you do not have a GPU set up on your machine.\n"
     ]
    }
   ],
   "source": [
    "import pandas as pd \n",
    "# import transformers\n",
    "import re\n",
    "from sklearn.feature_extraction.text import TfidfVectorizer\n",
    "\n",
    "import numpy as np\n"
   ]
  },
  {
   "cell_type": "code",
   "execution_count": 2,
   "id": "dc7bfa99",
   "metadata": {},
   "outputs": [],
   "source": [
    "punctuation = '!\"#$%&\\'()*+,-./:;<=>?@\\\\^_`{|}~“”'"
   ]
  },
  {
   "cell_type": "code",
   "execution_count": 110,
   "id": "58574061",
   "metadata": {},
   "outputs": [],
   "source": [
    "def preprocess_text(text):\n",
    "    text = text.lower()  # Lowercase text\n",
    "    text = re.sub(f\"[{re.escape(punctuation)}] \", \"\", text)  # Remove punctuation\n",
    "    text = \" \".join(text.split())  # Remove extra spaces, tabs, and new lines\n",
    "    text = re.sub(r'http\\S+', '', text)\n",
    "\n",
    "    return text\n",
    "\n",
    "def mask_tokens(mask_with, text):\n",
    "    tokens = text.split(\" [break] \")\n",
    "    tokens.pop(1)\n",
    "    masked = \" [MASK] \".join(tokens)\n",
    "    return masked\n",
    "\n",
    "\n",
    "def no_masks(mask_with, text):\n",
    "    tokens = text.split(\" [break] \")\n",
    "    tokens.pop(1)\n",
    "    masked = \" \".join(tokens)\n",
    "    masked = re.sub(f\"break\", \"\", masked)  # Remove punctuation\n",
    "    return masked"
   ]
  },
  {
   "cell_type": "code",
   "execution_count": 10,
   "id": "1cd0b7f4",
   "metadata": {},
   "outputs": [],
   "source": [
    "dff = pd.read_csv(\"/scratch/venia/web2wiki/data/tag_info_clean4.csv\")"
   ]
  },
  {
   "cell_type": "code",
   "execution_count": 11,
   "id": "28ca3ae2",
   "metadata": {},
   "outputs": [
    {
     "name": "stdout",
     "output_type": "stream",
     "text": [
      "243630\n"
     ]
    }
   ],
   "source": [
    "dff = dff.dropna(subset=[\"nbhd_text\"])\n",
    "print(len(dff))"
   ]
  },
  {
   "cell_type": "code",
   "execution_count": 111,
   "id": "521d973f",
   "metadata": {},
   "outputs": [
    {
     "name": "stdout",
     "output_type": "stream",
     "text": [
      "230268\n"
     ]
    }
   ],
   "source": [
    "dff[\"clean_text\"]=dff[\"nbhd_text\"].apply(lambda x: preprocess_text(str(x)))\n",
    "dff = dff[dff[\"clean_text\"].apply(lambda x: x.split(\" [break] \")).map(len)>1]\n",
    "dff[\"masked_text\"] = dff[[\"clean_text\",\"order\"]].apply(lambda x: no_masks(x[\"order\"], x[\"clean_text\"]),axis = 1)\n",
    "print(len(dff))"
   ]
  },
  {
   "cell_type": "code",
   "execution_count": 112,
   "id": "d8e9a13d",
   "metadata": {},
   "outputs": [],
   "source": [
    "df = dff.groupby(\"order\").sample(5000)"
   ]
  },
  {
   "cell_type": "code",
   "execution_count": 113,
   "id": "62906a19",
   "metadata": {},
   "outputs": [],
   "source": [
    "df = df.drop_duplicates(subset = \"domain\")"
   ]
  },
  {
   "cell_type": "code",
   "execution_count": 114,
   "id": "bd64c638",
   "metadata": {},
   "outputs": [],
   "source": [
    "text = df.groupby(\"order\")[\"masked_text\"].apply(lambda x: \" \".join(x))"
   ]
  },
  {
   "cell_type": "code",
   "execution_count": null,
   "id": "a93a74bd",
   "metadata": {},
   "outputs": [],
   "source": []
  },
  {
   "cell_type": "code",
   "execution_count": 71,
   "id": "cd7d76c7",
   "metadata": {},
   "outputs": [],
   "source": [
    "tfidf = TfidfVectorizer(stop_words = \"english\", ngram_range = (1,2))\n",
    "df_tfidf = pd.DataFrame(tfidf.fit_transform(text).toarray(), columns = tfidf.get_feature_names_out())"
   ]
  },
  {
   "cell_type": "code",
   "execution_count": 72,
   "id": "c6d02b8f",
   "metadata": {},
   "outputs": [],
   "source": []
  },
  {
   "cell_type": "code",
   "execution_count": 121,
   "id": "52d58b83",
   "metadata": {},
   "outputs": [
    {
     "data": {
      "text/html": [
       "<div>\n",
       "<style scoped>\n",
       "    .dataframe tbody tr th:only-of-type {\n",
       "        vertical-align: middle;\n",
       "    }\n",
       "\n",
       "    .dataframe tbody tr th {\n",
       "        vertical-align: top;\n",
       "    }\n",
       "\n",
       "    .dataframe thead th {\n",
       "        text-align: right;\n",
       "    }\n",
       "</style>\n",
       "<table border=\"1\" class=\"dataframe\">\n",
       "  <thead>\n",
       "    <tr style=\"text-align: right;\">\n",
       "      <th></th>\n",
       "      <th>0</th>\n",
       "      <th>1</th>\n",
       "      <th>2</th>\n",
       "    </tr>\n",
       "  </thead>\n",
       "  <tbody>\n",
       "    <tr>\n",
       "      <th>good</th>\n",
       "      <td>0.014273</td>\n",
       "      <td>0.056921</td>\n",
       "      <td>0.073430</td>\n",
       "    </tr>\n",
       "    <tr>\n",
       "      <th>read</th>\n",
       "      <td>0.042820</td>\n",
       "      <td>0.057839</td>\n",
       "      <td>0.088798</td>\n",
       "    </tr>\n",
       "    <tr>\n",
       "      <th>known</th>\n",
       "      <td>0.022837</td>\n",
       "      <td>0.058757</td>\n",
       "      <td>0.042692</td>\n",
       "    </tr>\n",
       "    <tr>\n",
       "      <th>que</th>\n",
       "      <td>0.015701</td>\n",
       "      <td>0.058757</td>\n",
       "      <td>0.083676</td>\n",
       "    </tr>\n",
       "    <tr>\n",
       "      <th>world</th>\n",
       "      <td>0.054238</td>\n",
       "      <td>0.060593</td>\n",
       "      <td>0.063184</td>\n",
       "    </tr>\n",
       "    <tr>\n",
       "      <th>way</th>\n",
       "      <td>0.024265</td>\n",
       "      <td>0.060593</td>\n",
       "      <td>0.058061</td>\n",
       "    </tr>\n",
       "    <tr>\n",
       "      <th>make</th>\n",
       "      <td>0.031401</td>\n",
       "      <td>0.066101</td>\n",
       "      <td>0.025615</td>\n",
       "    </tr>\n",
       "    <tr>\n",
       "      <th>el</th>\n",
       "      <td>0.027119</td>\n",
       "      <td>0.066101</td>\n",
       "      <td>0.039276</td>\n",
       "    </tr>\n",
       "    <tr>\n",
       "      <th>city</th>\n",
       "      <td>0.027119</td>\n",
       "      <td>0.067019</td>\n",
       "      <td>0.011954</td>\n",
       "    </tr>\n",
       "    <tr>\n",
       "      <th>just</th>\n",
       "      <td>0.025692</td>\n",
       "      <td>0.070692</td>\n",
       "      <td>0.099044</td>\n",
       "    </tr>\n",
       "    <tr>\n",
       "      <th>use</th>\n",
       "      <td>0.085640</td>\n",
       "      <td>0.076200</td>\n",
       "      <td>0.080260</td>\n",
       "    </tr>\n",
       "    <tr>\n",
       "      <th>people</th>\n",
       "      <td>0.029974</td>\n",
       "      <td>0.088135</td>\n",
       "      <td>0.085383</td>\n",
       "    </tr>\n",
       "    <tr>\n",
       "      <th>used</th>\n",
       "      <td>0.035683</td>\n",
       "      <td>0.093643</td>\n",
       "      <td>0.066599</td>\n",
       "    </tr>\n",
       "    <tr>\n",
       "      <th>time</th>\n",
       "      <td>0.032829</td>\n",
       "      <td>0.098234</td>\n",
       "      <td>0.076845</td>\n",
       "    </tr>\n",
       "    <tr>\n",
       "      <th>en</th>\n",
       "      <td>0.059948</td>\n",
       "      <td>0.113841</td>\n",
       "      <td>0.097337</td>\n",
       "    </tr>\n",
       "    <tr>\n",
       "      <th>la</th>\n",
       "      <td>0.057093</td>\n",
       "      <td>0.123940</td>\n",
       "      <td>0.102460</td>\n",
       "    </tr>\n",
       "    <tr>\n",
       "      <th>wikipedia</th>\n",
       "      <td>0.202681</td>\n",
       "      <td>0.130366</td>\n",
       "      <td>0.150274</td>\n",
       "    </tr>\n",
       "    <tr>\n",
       "      <th>new</th>\n",
       "      <td>0.048529</td>\n",
       "      <td>0.134039</td>\n",
       "      <td>0.040984</td>\n",
       "    </tr>\n",
       "    <tr>\n",
       "      <th>like</th>\n",
       "      <td>0.037111</td>\n",
       "      <td>0.145056</td>\n",
       "      <td>0.172474</td>\n",
       "    </tr>\n",
       "    <tr>\n",
       "      <th>break</th>\n",
       "      <td>0.365396</td>\n",
       "      <td>0.244208</td>\n",
       "      <td>0.131490</td>\n",
       "    </tr>\n",
       "  </tbody>\n",
       "</table>\n",
       "</div>"
      ],
      "text/plain": [
       "                  0         1         2\n",
       "good       0.014273  0.056921  0.073430\n",
       "read       0.042820  0.057839  0.088798\n",
       "known      0.022837  0.058757  0.042692\n",
       "que        0.015701  0.058757  0.083676\n",
       "world      0.054238  0.060593  0.063184\n",
       "way        0.024265  0.060593  0.058061\n",
       "make       0.031401  0.066101  0.025615\n",
       "el         0.027119  0.066101  0.039276\n",
       "city       0.027119  0.067019  0.011954\n",
       "just       0.025692  0.070692  0.099044\n",
       "use        0.085640  0.076200  0.080260\n",
       "people     0.029974  0.088135  0.085383\n",
       "used       0.035683  0.093643  0.066599\n",
       "time       0.032829  0.098234  0.076845\n",
       "en         0.059948  0.113841  0.097337\n",
       "la         0.057093  0.123940  0.102460\n",
       "wikipedia  0.202681  0.130366  0.150274\n",
       "new        0.048529  0.134039  0.040984\n",
       "like       0.037111  0.145056  0.172474\n",
       "break      0.365396  0.244208  0.131490"
      ]
     },
     "execution_count": 121,
     "metadata": {},
     "output_type": "execute_result"
    }
   ],
   "source": [
    "df_tfidf.T.sort_values(by = 1).tail(20)"
   ]
  },
  {
   "cell_type": "code",
   "execution_count": null,
   "id": "6af1be99",
   "metadata": {},
   "outputs": [],
   "source": []
  },
  {
   "cell_type": "code",
   "execution_count": 115,
   "id": "e481fb7b",
   "metadata": {},
   "outputs": [],
   "source": [
    "first_order = dff[dff[\"order\"] == 1]\n"
   ]
  },
  {
   "cell_type": "code",
   "execution_count": null,
   "id": "519ec6c4",
   "metadata": {},
   "outputs": [],
   "source": []
  },
  {
   "cell_type": "code",
   "execution_count": 116,
   "id": "ef0fdc6a",
   "metadata": {},
   "outputs": [
    {
     "name": "stderr",
     "output_type": "stream",
     "text": [
      "/tmp/ipykernel_2608915/4144591462.py:1: SettingWithCopyWarning: \n",
      "A value is trying to be set on a copy of a slice from a DataFrame.\n",
      "Try using .loc[row_indexer,col_indexer] = value instead\n",
      "\n",
      "See the caveats in the documentation: https://pandas.pydata.org/pandas-docs/stable/user_guide/indexing.html#returning-a-view-versus-a-copy\n",
      "  first_order[\"attribution\"] = first_order[\"wiki_links\"].apply(lambda x: \"attribution\" if \"File:\" in x else 0)\n"
     ]
    }
   ],
   "source": [
    "first_order[\"attribution\"] = first_order[\"wiki_links\"].apply(lambda x: \"attribution\" if \"File:\" in x else 0)"
   ]
  },
  {
   "cell_type": "code",
   "execution_count": 128,
   "id": "5f33f692",
   "metadata": {},
   "outputs": [
    {
     "data": {
      "text/plain": [
       "Index(['Unnamed: 0', 'url', 'wiki_links', 'is_tag_footer', 'is_tag_header',\n",
       "       'is_tag_aside', 'is_tag_nav', 'is_tag_sup', 'is_tag_cite',\n",
       "       'is_class_footer', 'is_class_header', 'is_class_sidebar',\n",
       "       'is_class_comment', 'previous_header', 'nbhd_text', 'is_wiki',\n",
       "       'is_blog', 'is_reference', '0th_order', 'evidence', '2nd_order',\n",
       "       'order', 'domain', 'domain_count', 'clean_text', 'masked_text',\n",
       "       'attribution', 'first_class'],\n",
       "      dtype='object')"
      ]
     },
     "execution_count": 128,
     "metadata": {},
     "output_type": "execute_result"
    }
   ],
   "source": [
    "first_order.columns"
   ]
  },
  {
   "cell_type": "code",
   "execution_count": 129,
   "id": "fe08f155",
   "metadata": {},
   "outputs": [
    {
     "name": "stderr",
     "output_type": "stream",
     "text": [
      "/tmp/ipykernel_2608915/2456153502.py:1: SettingWithCopyWarning: \n",
      "A value is trying to be set on a copy of a slice from a DataFrame.\n",
      "Try using .loc[row_indexer,col_indexer] = value instead\n",
      "\n",
      "See the caveats in the documentation: https://pandas.pydata.org/pandas-docs/stable/user_guide/indexing.html#returning-a-view-versus-a-copy\n",
      "  first_order[\"first_class\"] = first_order.apply(lambda x: \"attribution\" if x[\"attribution\"] != 0 else \"evidence\" if x[\"is_tag_cite\"] != 0 else \"ws\",axis =1)\n"
     ]
    }
   ],
   "source": [
    "first_order[\"first_class\"] = first_order.apply(lambda x: \"attribution\" if x[\"attribution\"] != 0 else \"evidence\" if x[\"is_tag_cite\"] != 0 else \"ws\",axis =1)"
   ]
  },
  {
   "cell_type": "code",
   "execution_count": 130,
   "id": "e3f905b5",
   "metadata": {},
   "outputs": [],
   "source": [
    "text2 = first_order.groupby(\"first_class\")[\"masked_text\"].apply(lambda x: \" \".join(x))"
   ]
  },
  {
   "cell_type": "code",
   "execution_count": null,
   "id": "a7670787",
   "metadata": {},
   "outputs": [],
   "source": []
  },
  {
   "cell_type": "code",
   "execution_count": 131,
   "id": "320221f1",
   "metadata": {},
   "outputs": [],
   "source": [
    "tfidf = TfidfVectorizer(stop_words = \"english\", ngram_range = (1,2),max_features = 20000)\n",
    "tfidf_1 = pd.DataFrame(tfidf.fit_transform(text2).toarray(), columns = tfidf.get_feature_names_out(), index = text2.index)"
   ]
  },
  {
   "cell_type": "code",
   "execution_count": 132,
   "id": "a00ce8c3",
   "metadata": {},
   "outputs": [
    {
     "data": {
      "text/html": [
       "<div>\n",
       "<style scoped>\n",
       "    .dataframe tbody tr th:only-of-type {\n",
       "        vertical-align: middle;\n",
       "    }\n",
       "\n",
       "    .dataframe tbody tr th {\n",
       "        vertical-align: top;\n",
       "    }\n",
       "\n",
       "    .dataframe thead th {\n",
       "        text-align: right;\n",
       "    }\n",
       "</style>\n",
       "<table border=\"1\" class=\"dataframe\">\n",
       "  <thead>\n",
       "    <tr style=\"text-align: right;\">\n",
       "      <th>first_class</th>\n",
       "      <th>attribution</th>\n",
       "      <th>evidence</th>\n",
       "      <th>ws</th>\n",
       "    </tr>\n",
       "  </thead>\n",
       "  <tbody>\n",
       "    <tr>\n",
       "      <th>january 2018</th>\n",
       "      <td>0.000000</td>\n",
       "      <td>0.093649</td>\n",
       "      <td>0.000181</td>\n",
       "    </tr>\n",
       "    <tr>\n",
       "      <th>1029</th>\n",
       "      <td>0.000000</td>\n",
       "      <td>0.102568</td>\n",
       "      <td>0.000020</td>\n",
       "    </tr>\n",
       "    <tr>\n",
       "      <th>cs1 maintref</th>\n",
       "      <td>0.000000</td>\n",
       "      <td>0.107027</td>\n",
       "      <td>0.000060</td>\n",
       "    </tr>\n",
       "    <tr>\n",
       "      <th>metro</th>\n",
       "      <td>0.005446</td>\n",
       "      <td>0.107358</td>\n",
       "      <td>0.025818</td>\n",
       "    </tr>\n",
       "    <tr>\n",
       "      <th>journal</th>\n",
       "      <td>0.003631</td>\n",
       "      <td>0.110822</td>\n",
       "      <td>0.007978</td>\n",
       "    </tr>\n",
       "    <tr>\n",
       "      <th>doi 10</th>\n",
       "      <td>0.003631</td>\n",
       "      <td>0.110822</td>\n",
       "      <td>0.000561</td>\n",
       "    </tr>\n",
       "    <tr>\n",
       "      <th>doi</th>\n",
       "      <td>0.005446</td>\n",
       "      <td>0.112553</td>\n",
       "      <td>0.001402</td>\n",
       "    </tr>\n",
       "    <tr>\n",
       "      <th>cs1</th>\n",
       "      <td>0.000000</td>\n",
       "      <td>0.120406</td>\n",
       "      <td>0.000140</td>\n",
       "    </tr>\n",
       "    <tr>\n",
       "      <th>10 1029</th>\n",
       "      <td>0.000000</td>\n",
       "      <td>0.134864</td>\n",
       "      <td>0.000000</td>\n",
       "    </tr>\n",
       "    <tr>\n",
       "      <th>978</th>\n",
       "      <td>0.000000</td>\n",
       "      <td>0.147162</td>\n",
       "      <td>0.003611</td>\n",
       "    </tr>\n",
       "    <tr>\n",
       "      <th>original</th>\n",
       "      <td>0.032678</td>\n",
       "      <td>0.147185</td>\n",
       "      <td>0.026753</td>\n",
       "    </tr>\n",
       "    <tr>\n",
       "      <th>january</th>\n",
       "      <td>0.007262</td>\n",
       "      <td>0.150648</td>\n",
       "      <td>0.016127</td>\n",
       "    </tr>\n",
       "    <tr>\n",
       "      <th>link</th>\n",
       "      <td>0.018154</td>\n",
       "      <td>0.167964</td>\n",
       "      <td>0.029994</td>\n",
       "    </tr>\n",
       "    <tr>\n",
       "      <th>harv link</th>\n",
       "      <td>0.000000</td>\n",
       "      <td>0.196216</td>\n",
       "      <td>0.000020</td>\n",
       "    </tr>\n",
       "    <tr>\n",
       "      <th>maintref</th>\n",
       "      <td>0.000000</td>\n",
       "      <td>0.205135</td>\n",
       "      <td>0.001063</td>\n",
       "    </tr>\n",
       "    <tr>\n",
       "      <th>maintref harv</th>\n",
       "      <td>0.000000</td>\n",
       "      <td>0.205135</td>\n",
       "      <td>0.001023</td>\n",
       "    </tr>\n",
       "    <tr>\n",
       "      <th>harv</th>\n",
       "      <td>0.000000</td>\n",
       "      <td>0.205135</td>\n",
       "      <td>0.001124</td>\n",
       "    </tr>\n",
       "    <tr>\n",
       "      <th>英语 英语</th>\n",
       "      <td>0.000000</td>\n",
       "      <td>0.280946</td>\n",
       "      <td>0.010714</td>\n",
       "    </tr>\n",
       "    <tr>\n",
       "      <th>英语</th>\n",
       "      <td>0.000000</td>\n",
       "      <td>0.289865</td>\n",
       "      <td>0.010955</td>\n",
       "    </tr>\n",
       "    <tr>\n",
       "      <th>10</th>\n",
       "      <td>0.108926</td>\n",
       "      <td>0.477918</td>\n",
       "      <td>0.062855</td>\n",
       "    </tr>\n",
       "  </tbody>\n",
       "</table>\n",
       "</div>"
      ],
      "text/plain": [
       "first_class    attribution  evidence        ws\n",
       "january 2018      0.000000  0.093649  0.000181\n",
       "1029              0.000000  0.102568  0.000020\n",
       "cs1 maintref      0.000000  0.107027  0.000060\n",
       "metro             0.005446  0.107358  0.025818\n",
       "journal           0.003631  0.110822  0.007978\n",
       "doi 10            0.003631  0.110822  0.000561\n",
       "doi               0.005446  0.112553  0.001402\n",
       "cs1               0.000000  0.120406  0.000140\n",
       "10 1029           0.000000  0.134864  0.000000\n",
       "978               0.000000  0.147162  0.003611\n",
       "original          0.032678  0.147185  0.026753\n",
       "january           0.007262  0.150648  0.016127\n",
       "link              0.018154  0.167964  0.029994\n",
       "harv link         0.000000  0.196216  0.000020\n",
       "maintref          0.000000  0.205135  0.001063\n",
       "maintref harv     0.000000  0.205135  0.001023\n",
       "harv              0.000000  0.205135  0.001124\n",
       "英语 英语             0.000000  0.280946  0.010714\n",
       "英语                0.000000  0.289865  0.010955\n",
       "10                0.108926  0.477918  0.062855"
      ]
     },
     "execution_count": 132,
     "metadata": {},
     "output_type": "execute_result"
    }
   ],
   "source": [
    "tfidf_1.T.sort_values(by = \"evidence\").tail(20)"
   ]
  },
  {
   "cell_type": "code",
   "execution_count": null,
   "id": "4370d55b",
   "metadata": {},
   "outputs": [],
   "source": []
  }
 ],
 "metadata": {
  "kernelspec": {
   "display_name": "Python 3 (ipykernel)",
   "language": "python",
   "name": "python3"
  },
  "language_info": {
   "codemirror_mode": {
    "name": "ipython",
    "version": 3
   },
   "file_extension": ".py",
   "mimetype": "text/x-python",
   "name": "python",
   "nbconvert_exporter": "python",
   "pygments_lexer": "ipython3",
   "version": "3.9.7"
  }
 },
 "nbformat": 4,
 "nbformat_minor": 5
}
