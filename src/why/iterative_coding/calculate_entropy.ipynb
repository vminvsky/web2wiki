{
 "cells": [
  {
   "cell_type": "code",
   "execution_count": 2,
   "id": "4c0cbd0b",
   "metadata": {},
   "outputs": [
    {
     "data": {
      "text/plain": [
       "4"
      ]
     },
     "execution_count": 2,
     "metadata": {},
     "output_type": "execute_result"
    }
   ],
   "source": [
    "import pandas as pd\n",
    "from scipy.stats import entropy\n"
   ]
  },
  {
   "cell_type": "code",
   "execution_count": 75,
   "id": "95363928",
   "metadata": {},
   "outputs": [],
   "source": [
    "df = pd.read_csv(\"/scratch/venia/web2wiki/data/web_content/iterative_coding_sample/cleaner_data.csv\")"
   ]
  },
  {
   "cell_type": "code",
   "execution_count": 67,
   "id": "5764504d",
   "metadata": {},
   "outputs": [],
   "source": [
    "df = df.drop_duplicates(subset = [\"url\",\"wiki_links\"])"
   ]
  },
  {
   "cell_type": "code",
   "execution_count": 69,
   "id": "6e1d1525",
   "metadata": {},
   "outputs": [],
   "source": [
    "\n",
    "def addlabels(x,y):\n",
    "    for i in range(len(x)):\n",
    "        plt.text(i,y[i] + 0.01, int(round(100*y[i],0)), ha = \"center\", fontsize = 12)"
   ]
  },
  {
   "cell_type": "code",
   "execution_count": 70,
   "id": "d4500c55",
   "metadata": {},
   "outputs": [],
   "source": []
  },
  {
   "cell_type": "code",
   "execution_count": 78,
   "id": "c73572ad",
   "metadata": {},
   "outputs": [],
   "source": [
    "import tldextract\n",
    "import urllib\n",
    "\n",
    "def extract_subdomain(x):\n",
    "    if len(tldextract.extract(x).subdomain) > 1:\n",
    "        y = tldextract.extract(x).subdomain +\".\"+tldextract.extract(x).registered_domain\n",
    "    else:\n",
    "        y = tldextract.extract(x).registered_domain\n",
    "    return y\n",
    "\n",
    "def normalise_title(title):\n",
    "    \"\"\" Replace _ with space, remove anchor, capitalize \"\"\"\n",
    "    title = title.split(\"/\")[-1]\n",
    "    title = title.split(\"#\")[0]\n",
    "    title = urllib.parse.unquote(title)\n",
    "    title = title.strip()\n",
    "    if len(title) > 0:\n",
    "        title = title[0].upper() + title[1:]\n",
    "    n_title = title.replace(\"_\", \" \")\n",
    "    # if '#' in n_title:\n",
    "    #     n_title = n_title.split('#')[0]\n",
    "    return n_title"
   ]
  },
  {
   "cell_type": "code",
   "execution_count": null,
   "id": "bb0a7554",
   "metadata": {},
   "outputs": [],
   "source": []
  },
  {
   "cell_type": "code",
   "execution_count": 79,
   "id": "2b1eb53c",
   "metadata": {},
   "outputs": [],
   "source": [
    "df[\"link_type\"] = df[\"wiki_links\"].apply(lambda x: 1 if \"wikipedia\" in str(x) else 0)\n",
    "df = df.dropna(subset=\"wiki_links\")\n",
    "df = df[df[\"wiki_links\"].apply(lambda x: True if \"http\" in str(x) else False)]"
   ]
  },
  {
   "cell_type": "code",
   "execution_count": null,
   "id": "ff88c89e",
   "metadata": {},
   "outputs": [],
   "source": []
  },
  {
   "cell_type": "code",
   "execution_count": 103,
   "id": "76b066d1",
   "metadata": {},
   "outputs": [
    {
     "name": "stderr",
     "output_type": "stream",
     "text": [
      "/tmp/ipykernel_2938310/1884108815.py:2: SettingWithCopyWarning: \n",
      "A value is trying to be set on a copy of a slice from a DataFrame.\n",
      "Try using .loc[row_indexer,col_indexer] = value instead\n",
      "\n",
      "See the caveats in the documentation: https://pandas.pydata.org/pandas-docs/stable/user_guide/indexing.html#returning-a-view-versus-a-copy\n",
      "  dff[\"title\"] = dff[\"wiki_links\"].map(normalise_title)\n"
     ]
    }
   ],
   "source": [
    "dff = df[df[\"link_type\"] == 1]\n",
    "dff[\"title\"] = dff[\"wiki_links\"].map(normalise_title)"
   ]
  },
  {
   "cell_type": "code",
   "execution_count": null,
   "id": "72257570",
   "metadata": {},
   "outputs": [],
   "source": []
  },
  {
   "cell_type": "code",
   "execution_count": null,
   "id": "7640df35",
   "metadata": {},
   "outputs": [],
   "source": []
  },
  {
   "cell_type": "code",
   "execution_count": 74,
   "id": "6f731172",
   "metadata": {},
   "outputs": [],
   "source": []
  },
  {
   "cell_type": "markdown",
   "id": "d2222a3b",
   "metadata": {},
   "source": [
    "# calculate entropy"
   ]
  },
  {
   "cell_type": "code",
   "execution_count": 82,
   "id": "dcdbe97e",
   "metadata": {},
   "outputs": [],
   "source": [
    "# dff = df[df[\"domain_count\"]<1000]"
   ]
  },
  {
   "cell_type": "code",
   "execution_count": 105,
   "id": "035b29e5",
   "metadata": {},
   "outputs": [
    {
     "name": "stdout",
     "output_type": "stream",
     "text": [
      "7.652458379810653\n",
      "8.472254284474493\n",
      "8.414428831157824\n"
     ]
    }
   ],
   "source": [
    "# dff = dff.drop_duplicates(subset = [\"title\",\"domain\"])\n",
    "t = dff.groupby([\"order\",\"title\"])[\"url\"].count().sort_values().reset_index()\n",
    "t[\"total_count\"] = t.groupby(\"order\")[\"url\"].transform(\"sum\")\n",
    "t[\"p\"] = t[\"url\"] / t[\"total_count\"]\n",
    "zero = t[t[\"order\"] == 0]\n",
    "one = t[t[\"order\"] == 1]\n",
    "two = t[t[\"order\"] == 2]\n",
    "print(entropy(zero.sample(len(two))[\"p\"]))\n",
    "print(entropy(one.sample(len(two))[\"p\"]))\n",
    "print(entropy(two[\"p\"]))"
   ]
  },
  {
   "cell_type": "code",
   "execution_count": null,
   "id": "5cb7e7fc",
   "metadata": {},
   "outputs": [],
   "source": []
  }
 ],
 "metadata": {
  "kernelspec": {
   "display_name": "Python 3 (ipykernel)",
   "language": "python",
   "name": "python3"
  },
  "language_info": {
   "codemirror_mode": {
    "name": "ipython",
    "version": 3
   },
   "file_extension": ".py",
   "mimetype": "text/x-python",
   "name": "python",
   "nbconvert_exporter": "python",
   "pygments_lexer": "ipython3",
   "version": "3.9.7"
  }
 },
 "nbformat": 4,
 "nbformat_minor": 5
}
